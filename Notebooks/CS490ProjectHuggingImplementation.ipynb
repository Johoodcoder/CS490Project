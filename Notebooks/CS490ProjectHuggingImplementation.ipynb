{
  "nbformat": 4,
  "nbformat_minor": 0,
  "metadata": {
    "colab": {
      "name": "CS490Project.ipynb",
      "provenance": [],
      "collapsed_sections": [],
      "authorship_tag": "ABX9TyMZEWdqhjLMyvAU+k9qBCKs",
      "include_colab_link": true
    },
    "kernelspec": {
      "name": "python3",
      "display_name": "Python 3"
    },
    "accelerator": "GPU",
    "widgets": {
      "application/vnd.jupyter.widget-state+json": {
        "a8db283d73d04de591064b1abfe7fafe": {
          "model_module": "@jupyter-widgets/controls",
          "model_name": "HBoxModel",
          "state": {
            "_view_name": "HBoxView",
            "_dom_classes": [],
            "_model_name": "HBoxModel",
            "_view_module": "@jupyter-widgets/controls",
            "_model_module_version": "1.5.0",
            "_view_count": null,
            "_view_module_version": "1.5.0",
            "box_style": "",
            "layout": "IPY_MODEL_d68542883dc846019d2c50490527de63",
            "_model_module": "@jupyter-widgets/controls",
            "children": [
              "IPY_MODEL_4522e221c9e74c068f0e57868d2ad109",
              "IPY_MODEL_74759b1f5fcd4db5ac84768a7d2def5d"
            ]
          }
        },
        "d68542883dc846019d2c50490527de63": {
          "model_module": "@jupyter-widgets/base",
          "model_name": "LayoutModel",
          "state": {
            "_view_name": "LayoutView",
            "grid_template_rows": null,
            "right": null,
            "justify_content": null,
            "_view_module": "@jupyter-widgets/base",
            "overflow": null,
            "_model_module_version": "1.2.0",
            "_view_count": null,
            "flex_flow": null,
            "width": null,
            "min_width": null,
            "border": null,
            "align_items": null,
            "bottom": null,
            "_model_module": "@jupyter-widgets/base",
            "top": null,
            "grid_column": null,
            "overflow_y": null,
            "overflow_x": null,
            "grid_auto_flow": null,
            "grid_area": null,
            "grid_template_columns": null,
            "flex": null,
            "_model_name": "LayoutModel",
            "justify_items": null,
            "grid_row": null,
            "max_height": null,
            "align_content": null,
            "visibility": null,
            "align_self": null,
            "height": null,
            "min_height": null,
            "padding": null,
            "grid_auto_rows": null,
            "grid_gap": null,
            "max_width": null,
            "order": null,
            "_view_module_version": "1.2.0",
            "grid_template_areas": null,
            "object_position": null,
            "object_fit": null,
            "grid_auto_columns": null,
            "margin": null,
            "display": null,
            "left": null
          }
        },
        "4522e221c9e74c068f0e57868d2ad109": {
          "model_module": "@jupyter-widgets/controls",
          "model_name": "FloatProgressModel",
          "state": {
            "_view_name": "ProgressView",
            "style": "IPY_MODEL_6aac9e70932a490dbbcf551f8b600968",
            "_dom_classes": [],
            "description": "Downloading: 100%",
            "_model_name": "FloatProgressModel",
            "bar_style": "success",
            "max": 231508,
            "_view_module": "@jupyter-widgets/controls",
            "_model_module_version": "1.5.0",
            "value": 231508,
            "_view_count": null,
            "_view_module_version": "1.5.0",
            "orientation": "horizontal",
            "min": 0,
            "description_tooltip": null,
            "_model_module": "@jupyter-widgets/controls",
            "layout": "IPY_MODEL_3096de980ed24a0d99eabaa80b59d797"
          }
        },
        "74759b1f5fcd4db5ac84768a7d2def5d": {
          "model_module": "@jupyter-widgets/controls",
          "model_name": "HTMLModel",
          "state": {
            "_view_name": "HTMLView",
            "style": "IPY_MODEL_0d310975c1504ef992a2080e0d594a56",
            "_dom_classes": [],
            "description": "",
            "_model_name": "HTMLModel",
            "placeholder": "​",
            "_view_module": "@jupyter-widgets/controls",
            "_model_module_version": "1.5.0",
            "value": " 232k/232k [00:00&lt;00:00, 1.57MB/s]",
            "_view_count": null,
            "_view_module_version": "1.5.0",
            "description_tooltip": null,
            "_model_module": "@jupyter-widgets/controls",
            "layout": "IPY_MODEL_bd47c107c81f4182aa071c581bf75071"
          }
        },
        "6aac9e70932a490dbbcf551f8b600968": {
          "model_module": "@jupyter-widgets/controls",
          "model_name": "ProgressStyleModel",
          "state": {
            "_view_name": "StyleView",
            "_model_name": "ProgressStyleModel",
            "description_width": "initial",
            "_view_module": "@jupyter-widgets/base",
            "_model_module_version": "1.5.0",
            "_view_count": null,
            "_view_module_version": "1.2.0",
            "bar_color": null,
            "_model_module": "@jupyter-widgets/controls"
          }
        },
        "3096de980ed24a0d99eabaa80b59d797": {
          "model_module": "@jupyter-widgets/base",
          "model_name": "LayoutModel",
          "state": {
            "_view_name": "LayoutView",
            "grid_template_rows": null,
            "right": null,
            "justify_content": null,
            "_view_module": "@jupyter-widgets/base",
            "overflow": null,
            "_model_module_version": "1.2.0",
            "_view_count": null,
            "flex_flow": null,
            "width": null,
            "min_width": null,
            "border": null,
            "align_items": null,
            "bottom": null,
            "_model_module": "@jupyter-widgets/base",
            "top": null,
            "grid_column": null,
            "overflow_y": null,
            "overflow_x": null,
            "grid_auto_flow": null,
            "grid_area": null,
            "grid_template_columns": null,
            "flex": null,
            "_model_name": "LayoutModel",
            "justify_items": null,
            "grid_row": null,
            "max_height": null,
            "align_content": null,
            "visibility": null,
            "align_self": null,
            "height": null,
            "min_height": null,
            "padding": null,
            "grid_auto_rows": null,
            "grid_gap": null,
            "max_width": null,
            "order": null,
            "_view_module_version": "1.2.0",
            "grid_template_areas": null,
            "object_position": null,
            "object_fit": null,
            "grid_auto_columns": null,
            "margin": null,
            "display": null,
            "left": null
          }
        },
        "0d310975c1504ef992a2080e0d594a56": {
          "model_module": "@jupyter-widgets/controls",
          "model_name": "DescriptionStyleModel",
          "state": {
            "_view_name": "StyleView",
            "_model_name": "DescriptionStyleModel",
            "description_width": "",
            "_view_module": "@jupyter-widgets/base",
            "_model_module_version": "1.5.0",
            "_view_count": null,
            "_view_module_version": "1.2.0",
            "_model_module": "@jupyter-widgets/controls"
          }
        },
        "bd47c107c81f4182aa071c581bf75071": {
          "model_module": "@jupyter-widgets/base",
          "model_name": "LayoutModel",
          "state": {
            "_view_name": "LayoutView",
            "grid_template_rows": null,
            "right": null,
            "justify_content": null,
            "_view_module": "@jupyter-widgets/base",
            "overflow": null,
            "_model_module_version": "1.2.0",
            "_view_count": null,
            "flex_flow": null,
            "width": null,
            "min_width": null,
            "border": null,
            "align_items": null,
            "bottom": null,
            "_model_module": "@jupyter-widgets/base",
            "top": null,
            "grid_column": null,
            "overflow_y": null,
            "overflow_x": null,
            "grid_auto_flow": null,
            "grid_area": null,
            "grid_template_columns": null,
            "flex": null,
            "_model_name": "LayoutModel",
            "justify_items": null,
            "grid_row": null,
            "max_height": null,
            "align_content": null,
            "visibility": null,
            "align_self": null,
            "height": null,
            "min_height": null,
            "padding": null,
            "grid_auto_rows": null,
            "grid_gap": null,
            "max_width": null,
            "order": null,
            "_view_module_version": "1.2.0",
            "grid_template_areas": null,
            "object_position": null,
            "object_fit": null,
            "grid_auto_columns": null,
            "margin": null,
            "display": null,
            "left": null
          }
        },
        "1514a3b94b6542b6a5d20852cf005b57": {
          "model_module": "@jupyter-widgets/controls",
          "model_name": "HBoxModel",
          "state": {
            "_view_name": "HBoxView",
            "_dom_classes": [],
            "_model_name": "HBoxModel",
            "_view_module": "@jupyter-widgets/controls",
            "_model_module_version": "1.5.0",
            "_view_count": null,
            "_view_module_version": "1.5.0",
            "box_style": "",
            "layout": "IPY_MODEL_df18d0e3c0364403bc59fd0dba40d997",
            "_model_module": "@jupyter-widgets/controls",
            "children": [
              "IPY_MODEL_52fab3d0234d42bf9bbc8d2d90f2c275",
              "IPY_MODEL_a480cb5c3fce4ad3b13dbb189afcf23a"
            ]
          }
        },
        "df18d0e3c0364403bc59fd0dba40d997": {
          "model_module": "@jupyter-widgets/base",
          "model_name": "LayoutModel",
          "state": {
            "_view_name": "LayoutView",
            "grid_template_rows": null,
            "right": null,
            "justify_content": null,
            "_view_module": "@jupyter-widgets/base",
            "overflow": null,
            "_model_module_version": "1.2.0",
            "_view_count": null,
            "flex_flow": null,
            "width": null,
            "min_width": null,
            "border": null,
            "align_items": null,
            "bottom": null,
            "_model_module": "@jupyter-widgets/base",
            "top": null,
            "grid_column": null,
            "overflow_y": null,
            "overflow_x": null,
            "grid_auto_flow": null,
            "grid_area": null,
            "grid_template_columns": null,
            "flex": null,
            "_model_name": "LayoutModel",
            "justify_items": null,
            "grid_row": null,
            "max_height": null,
            "align_content": null,
            "visibility": null,
            "align_self": null,
            "height": null,
            "min_height": null,
            "padding": null,
            "grid_auto_rows": null,
            "grid_gap": null,
            "max_width": null,
            "order": null,
            "_view_module_version": "1.2.0",
            "grid_template_areas": null,
            "object_position": null,
            "object_fit": null,
            "grid_auto_columns": null,
            "margin": null,
            "display": null,
            "left": null
          }
        },
        "52fab3d0234d42bf9bbc8d2d90f2c275": {
          "model_module": "@jupyter-widgets/controls",
          "model_name": "FloatProgressModel",
          "state": {
            "_view_name": "ProgressView",
            "style": "IPY_MODEL_5425cedf14f64124b772debf736ea7d0",
            "_dom_classes": [],
            "description": "Downloading: 100%",
            "_model_name": "FloatProgressModel",
            "bar_style": "success",
            "max": 28,
            "_view_module": "@jupyter-widgets/controls",
            "_model_module_version": "1.5.0",
            "value": 28,
            "_view_count": null,
            "_view_module_version": "1.5.0",
            "orientation": "horizontal",
            "min": 0,
            "description_tooltip": null,
            "_model_module": "@jupyter-widgets/controls",
            "layout": "IPY_MODEL_1ffdcfba3f054dd89ec36c5e19077aac"
          }
        },
        "a480cb5c3fce4ad3b13dbb189afcf23a": {
          "model_module": "@jupyter-widgets/controls",
          "model_name": "HTMLModel",
          "state": {
            "_view_name": "HTMLView",
            "style": "IPY_MODEL_7f5285b043364ff6ad4dca6403e69394",
            "_dom_classes": [],
            "description": "",
            "_model_name": "HTMLModel",
            "placeholder": "​",
            "_view_module": "@jupyter-widgets/controls",
            "_model_module_version": "1.5.0",
            "value": " 28.0/28.0 [00:00&lt;00:00, 146B/s]",
            "_view_count": null,
            "_view_module_version": "1.5.0",
            "description_tooltip": null,
            "_model_module": "@jupyter-widgets/controls",
            "layout": "IPY_MODEL_6593d67fb0bc42518756135508d83944"
          }
        },
        "5425cedf14f64124b772debf736ea7d0": {
          "model_module": "@jupyter-widgets/controls",
          "model_name": "ProgressStyleModel",
          "state": {
            "_view_name": "StyleView",
            "_model_name": "ProgressStyleModel",
            "description_width": "initial",
            "_view_module": "@jupyter-widgets/base",
            "_model_module_version": "1.5.0",
            "_view_count": null,
            "_view_module_version": "1.2.0",
            "bar_color": null,
            "_model_module": "@jupyter-widgets/controls"
          }
        },
        "1ffdcfba3f054dd89ec36c5e19077aac": {
          "model_module": "@jupyter-widgets/base",
          "model_name": "LayoutModel",
          "state": {
            "_view_name": "LayoutView",
            "grid_template_rows": null,
            "right": null,
            "justify_content": null,
            "_view_module": "@jupyter-widgets/base",
            "overflow": null,
            "_model_module_version": "1.2.0",
            "_view_count": null,
            "flex_flow": null,
            "width": null,
            "min_width": null,
            "border": null,
            "align_items": null,
            "bottom": null,
            "_model_module": "@jupyter-widgets/base",
            "top": null,
            "grid_column": null,
            "overflow_y": null,
            "overflow_x": null,
            "grid_auto_flow": null,
            "grid_area": null,
            "grid_template_columns": null,
            "flex": null,
            "_model_name": "LayoutModel",
            "justify_items": null,
            "grid_row": null,
            "max_height": null,
            "align_content": null,
            "visibility": null,
            "align_self": null,
            "height": null,
            "min_height": null,
            "padding": null,
            "grid_auto_rows": null,
            "grid_gap": null,
            "max_width": null,
            "order": null,
            "_view_module_version": "1.2.0",
            "grid_template_areas": null,
            "object_position": null,
            "object_fit": null,
            "grid_auto_columns": null,
            "margin": null,
            "display": null,
            "left": null
          }
        },
        "7f5285b043364ff6ad4dca6403e69394": {
          "model_module": "@jupyter-widgets/controls",
          "model_name": "DescriptionStyleModel",
          "state": {
            "_view_name": "StyleView",
            "_model_name": "DescriptionStyleModel",
            "description_width": "",
            "_view_module": "@jupyter-widgets/base",
            "_model_module_version": "1.5.0",
            "_view_count": null,
            "_view_module_version": "1.2.0",
            "_model_module": "@jupyter-widgets/controls"
          }
        },
        "6593d67fb0bc42518756135508d83944": {
          "model_module": "@jupyter-widgets/base",
          "model_name": "LayoutModel",
          "state": {
            "_view_name": "LayoutView",
            "grid_template_rows": null,
            "right": null,
            "justify_content": null,
            "_view_module": "@jupyter-widgets/base",
            "overflow": null,
            "_model_module_version": "1.2.0",
            "_view_count": null,
            "flex_flow": null,
            "width": null,
            "min_width": null,
            "border": null,
            "align_items": null,
            "bottom": null,
            "_model_module": "@jupyter-widgets/base",
            "top": null,
            "grid_column": null,
            "overflow_y": null,
            "overflow_x": null,
            "grid_auto_flow": null,
            "grid_area": null,
            "grid_template_columns": null,
            "flex": null,
            "_model_name": "LayoutModel",
            "justify_items": null,
            "grid_row": null,
            "max_height": null,
            "align_content": null,
            "visibility": null,
            "align_self": null,
            "height": null,
            "min_height": null,
            "padding": null,
            "grid_auto_rows": null,
            "grid_gap": null,
            "max_width": null,
            "order": null,
            "_view_module_version": "1.2.0",
            "grid_template_areas": null,
            "object_position": null,
            "object_fit": null,
            "grid_auto_columns": null,
            "margin": null,
            "display": null,
            "left": null
          }
        },
        "ec390b662bb44c6fbab34e84480c5c66": {
          "model_module": "@jupyter-widgets/controls",
          "model_name": "HBoxModel",
          "state": {
            "_view_name": "HBoxView",
            "_dom_classes": [],
            "_model_name": "HBoxModel",
            "_view_module": "@jupyter-widgets/controls",
            "_model_module_version": "1.5.0",
            "_view_count": null,
            "_view_module_version": "1.5.0",
            "box_style": "",
            "layout": "IPY_MODEL_bd87c11dfe7e4421b9e859b2ab39633f",
            "_model_module": "@jupyter-widgets/controls",
            "children": [
              "IPY_MODEL_a68ed017d0f2486e88319f5ca0e2ebe8",
              "IPY_MODEL_883829b2686c47c7b7034c0c7382be58"
            ]
          }
        },
        "bd87c11dfe7e4421b9e859b2ab39633f": {
          "model_module": "@jupyter-widgets/base",
          "model_name": "LayoutModel",
          "state": {
            "_view_name": "LayoutView",
            "grid_template_rows": null,
            "right": null,
            "justify_content": null,
            "_view_module": "@jupyter-widgets/base",
            "overflow": null,
            "_model_module_version": "1.2.0",
            "_view_count": null,
            "flex_flow": null,
            "width": null,
            "min_width": null,
            "border": null,
            "align_items": null,
            "bottom": null,
            "_model_module": "@jupyter-widgets/base",
            "top": null,
            "grid_column": null,
            "overflow_y": null,
            "overflow_x": null,
            "grid_auto_flow": null,
            "grid_area": null,
            "grid_template_columns": null,
            "flex": null,
            "_model_name": "LayoutModel",
            "justify_items": null,
            "grid_row": null,
            "max_height": null,
            "align_content": null,
            "visibility": null,
            "align_self": null,
            "height": null,
            "min_height": null,
            "padding": null,
            "grid_auto_rows": null,
            "grid_gap": null,
            "max_width": null,
            "order": null,
            "_view_module_version": "1.2.0",
            "grid_template_areas": null,
            "object_position": null,
            "object_fit": null,
            "grid_auto_columns": null,
            "margin": null,
            "display": null,
            "left": null
          }
        },
        "a68ed017d0f2486e88319f5ca0e2ebe8": {
          "model_module": "@jupyter-widgets/controls",
          "model_name": "FloatProgressModel",
          "state": {
            "_view_name": "ProgressView",
            "style": "IPY_MODEL_c8c5239fd94b481db221d0bb510a15ab",
            "_dom_classes": [],
            "description": "Downloading: 100%",
            "_model_name": "FloatProgressModel",
            "bar_style": "success",
            "max": 466062,
            "_view_module": "@jupyter-widgets/controls",
            "_model_module_version": "1.5.0",
            "value": 466062,
            "_view_count": null,
            "_view_module_version": "1.5.0",
            "orientation": "horizontal",
            "min": 0,
            "description_tooltip": null,
            "_model_module": "@jupyter-widgets/controls",
            "layout": "IPY_MODEL_2d41c4ff665445f898e281ea8cd252ba"
          }
        },
        "883829b2686c47c7b7034c0c7382be58": {
          "model_module": "@jupyter-widgets/controls",
          "model_name": "HTMLModel",
          "state": {
            "_view_name": "HTMLView",
            "style": "IPY_MODEL_beb6ad799a9e43a1858847c5e0b93ebb",
            "_dom_classes": [],
            "description": "",
            "_model_name": "HTMLModel",
            "placeholder": "​",
            "_view_module": "@jupyter-widgets/controls",
            "_model_module_version": "1.5.0",
            "value": " 466k/466k [00:00&lt;00:00, 5.23MB/s]",
            "_view_count": null,
            "_view_module_version": "1.5.0",
            "description_tooltip": null,
            "_model_module": "@jupyter-widgets/controls",
            "layout": "IPY_MODEL_e8011e455c274a9db0b2af06942a488d"
          }
        },
        "c8c5239fd94b481db221d0bb510a15ab": {
          "model_module": "@jupyter-widgets/controls",
          "model_name": "ProgressStyleModel",
          "state": {
            "_view_name": "StyleView",
            "_model_name": "ProgressStyleModel",
            "description_width": "initial",
            "_view_module": "@jupyter-widgets/base",
            "_model_module_version": "1.5.0",
            "_view_count": null,
            "_view_module_version": "1.2.0",
            "bar_color": null,
            "_model_module": "@jupyter-widgets/controls"
          }
        },
        "2d41c4ff665445f898e281ea8cd252ba": {
          "model_module": "@jupyter-widgets/base",
          "model_name": "LayoutModel",
          "state": {
            "_view_name": "LayoutView",
            "grid_template_rows": null,
            "right": null,
            "justify_content": null,
            "_view_module": "@jupyter-widgets/base",
            "overflow": null,
            "_model_module_version": "1.2.0",
            "_view_count": null,
            "flex_flow": null,
            "width": null,
            "min_width": null,
            "border": null,
            "align_items": null,
            "bottom": null,
            "_model_module": "@jupyter-widgets/base",
            "top": null,
            "grid_column": null,
            "overflow_y": null,
            "overflow_x": null,
            "grid_auto_flow": null,
            "grid_area": null,
            "grid_template_columns": null,
            "flex": null,
            "_model_name": "LayoutModel",
            "justify_items": null,
            "grid_row": null,
            "max_height": null,
            "align_content": null,
            "visibility": null,
            "align_self": null,
            "height": null,
            "min_height": null,
            "padding": null,
            "grid_auto_rows": null,
            "grid_gap": null,
            "max_width": null,
            "order": null,
            "_view_module_version": "1.2.0",
            "grid_template_areas": null,
            "object_position": null,
            "object_fit": null,
            "grid_auto_columns": null,
            "margin": null,
            "display": null,
            "left": null
          }
        },
        "beb6ad799a9e43a1858847c5e0b93ebb": {
          "model_module": "@jupyter-widgets/controls",
          "model_name": "DescriptionStyleModel",
          "state": {
            "_view_name": "StyleView",
            "_model_name": "DescriptionStyleModel",
            "description_width": "",
            "_view_module": "@jupyter-widgets/base",
            "_model_module_version": "1.5.0",
            "_view_count": null,
            "_view_module_version": "1.2.0",
            "_model_module": "@jupyter-widgets/controls"
          }
        },
        "e8011e455c274a9db0b2af06942a488d": {
          "model_module": "@jupyter-widgets/base",
          "model_name": "LayoutModel",
          "state": {
            "_view_name": "LayoutView",
            "grid_template_rows": null,
            "right": null,
            "justify_content": null,
            "_view_module": "@jupyter-widgets/base",
            "overflow": null,
            "_model_module_version": "1.2.0",
            "_view_count": null,
            "flex_flow": null,
            "width": null,
            "min_width": null,
            "border": null,
            "align_items": null,
            "bottom": null,
            "_model_module": "@jupyter-widgets/base",
            "top": null,
            "grid_column": null,
            "overflow_y": null,
            "overflow_x": null,
            "grid_auto_flow": null,
            "grid_area": null,
            "grid_template_columns": null,
            "flex": null,
            "_model_name": "LayoutModel",
            "justify_items": null,
            "grid_row": null,
            "max_height": null,
            "align_content": null,
            "visibility": null,
            "align_self": null,
            "height": null,
            "min_height": null,
            "padding": null,
            "grid_auto_rows": null,
            "grid_gap": null,
            "max_width": null,
            "order": null,
            "_view_module_version": "1.2.0",
            "grid_template_areas": null,
            "object_position": null,
            "object_fit": null,
            "grid_auto_columns": null,
            "margin": null,
            "display": null,
            "left": null
          }
        }
      }
    }
  },
  "cells": [
    {
      "cell_type": "markdown",
      "metadata": {
        "id": "view-in-github",
        "colab_type": "text"
      },
      "source": [
        "<a href=\"https://colab.research.google.com/github/Johoodcoder/CS490Project/blob/hood/Notebooks/CS490ProjectHuggingImplementation.ipynb\" target=\"_parent\"><img src=\"https://colab.research.google.com/assets/colab-badge.svg\" alt=\"Open In Colab\"/></a>"
      ]
    },
    {
      "cell_type": "markdown",
      "metadata": {
        "id": "mTZbJ1SJ53XO"
      },
      "source": [
        "Non-preinstalled module installs"
      ]
    },
    {
      "cell_type": "code",
      "metadata": {
        "id": "sm5_ujD458U9",
        "colab": {
          "base_uri": "https://localhost:8080/"
        },
        "outputId": "1f9aabd4-0162-439e-b577-f7fe2b2ff852"
      },
      "source": [
        "!pip install transformers"
      ],
      "execution_count": 1,
      "outputs": [
        {
          "output_type": "stream",
          "text": [
            "Collecting transformers\n",
            "\u001b[?25l  Downloading https://files.pythonhosted.org/packages/d8/b2/57495b5309f09fa501866e225c84532d1fd89536ea62406b2181933fb418/transformers-4.5.1-py3-none-any.whl (2.1MB)\n",
            "\u001b[K     |████████████████████████████████| 2.1MB 17.1MB/s \n",
            "\u001b[?25hCollecting sacremoses\n",
            "\u001b[?25l  Downloading https://files.pythonhosted.org/packages/08/cd/342e584ee544d044fb573ae697404ce22ede086c9e87ce5960772084cad0/sacremoses-0.0.44.tar.gz (862kB)\n",
            "\u001b[K     |████████████████████████████████| 870kB 49.5MB/s \n",
            "\u001b[?25hRequirement already satisfied: importlib-metadata; python_version < \"3.8\" in /usr/local/lib/python3.7/dist-packages (from transformers) (3.10.0)\n",
            "Requirement already satisfied: filelock in /usr/local/lib/python3.7/dist-packages (from transformers) (3.0.12)\n",
            "Requirement already satisfied: tqdm>=4.27 in /usr/local/lib/python3.7/dist-packages (from transformers) (4.41.1)\n",
            "Collecting tokenizers<0.11,>=0.10.1\n",
            "\u001b[?25l  Downloading https://files.pythonhosted.org/packages/ae/04/5b870f26a858552025a62f1649c20d29d2672c02ff3c3fb4c688ca46467a/tokenizers-0.10.2-cp37-cp37m-manylinux2010_x86_64.whl (3.3MB)\n",
            "\u001b[K     |████████████████████████████████| 3.3MB 50.8MB/s \n",
            "\u001b[?25hRequirement already satisfied: packaging in /usr/local/lib/python3.7/dist-packages (from transformers) (20.9)\n",
            "Requirement already satisfied: regex!=2019.12.17 in /usr/local/lib/python3.7/dist-packages (from transformers) (2019.12.20)\n",
            "Requirement already satisfied: numpy>=1.17 in /usr/local/lib/python3.7/dist-packages (from transformers) (1.19.5)\n",
            "Requirement already satisfied: requests in /usr/local/lib/python3.7/dist-packages (from transformers) (2.23.0)\n",
            "Requirement already satisfied: six in /usr/local/lib/python3.7/dist-packages (from sacremoses->transformers) (1.15.0)\n",
            "Requirement already satisfied: click in /usr/local/lib/python3.7/dist-packages (from sacremoses->transformers) (7.1.2)\n",
            "Requirement already satisfied: joblib in /usr/local/lib/python3.7/dist-packages (from sacremoses->transformers) (1.0.1)\n",
            "Requirement already satisfied: typing-extensions>=3.6.4; python_version < \"3.8\" in /usr/local/lib/python3.7/dist-packages (from importlib-metadata; python_version < \"3.8\"->transformers) (3.7.4.3)\n",
            "Requirement already satisfied: zipp>=0.5 in /usr/local/lib/python3.7/dist-packages (from importlib-metadata; python_version < \"3.8\"->transformers) (3.4.1)\n",
            "Requirement already satisfied: pyparsing>=2.0.2 in /usr/local/lib/python3.7/dist-packages (from packaging->transformers) (2.4.7)\n",
            "Requirement already satisfied: idna<3,>=2.5 in /usr/local/lib/python3.7/dist-packages (from requests->transformers) (2.10)\n",
            "Requirement already satisfied: certifi>=2017.4.17 in /usr/local/lib/python3.7/dist-packages (from requests->transformers) (2020.12.5)\n",
            "Requirement already satisfied: urllib3!=1.25.0,!=1.25.1,<1.26,>=1.21.1 in /usr/local/lib/python3.7/dist-packages (from requests->transformers) (1.24.3)\n",
            "Requirement already satisfied: chardet<4,>=3.0.2 in /usr/local/lib/python3.7/dist-packages (from requests->transformers) (3.0.4)\n",
            "Building wheels for collected packages: sacremoses\n",
            "  Building wheel for sacremoses (setup.py) ... \u001b[?25l\u001b[?25hdone\n",
            "  Created wheel for sacremoses: filename=sacremoses-0.0.44-cp37-none-any.whl size=886084 sha256=2c55752b16a0099c77a7e2abf74f51f64b64c8369f10fb15e1b8df2f9826dd2e\n",
            "  Stored in directory: /root/.cache/pip/wheels/3e/fb/c0/13ab4d63d537658f448366744654323077c4d90069b6512f3c\n",
            "Successfully built sacremoses\n",
            "Installing collected packages: sacremoses, tokenizers, transformers\n",
            "Successfully installed sacremoses-0.0.44 tokenizers-0.10.2 transformers-4.5.1\n"
          ],
          "name": "stdout"
        }
      ]
    },
    {
      "cell_type": "markdown",
      "metadata": {
        "id": "DWz664Rd6MeU"
      },
      "source": [
        "Import all the stuff we need"
      ]
    },
    {
      "cell_type": "code",
      "metadata": {
        "id": "qbufH4ZX8X5N"
      },
      "source": [
        "import tensorflow as tf\n",
        "import torch\n",
        "import pandas as pd\n",
        "from transformers import BertTokenizer\n",
        "from torch.utils.data import TensorDataset, random_split\n",
        "from torch.utils.data import DataLoader, RandomSampler, SequentialSampler\n",
        "from transformers import BertForSequenceClassification, AdamW, BertConfig\n",
        "from transformers import get_linear_schedule_with_warmup\n",
        "import numpy as np\n",
        "import time\n",
        "import datetime\n",
        "import random\n",
        "import seaborn as sns\n",
        "import matplotlib.pyplot as plt\n",
        "from sklearn.metrics import matthews_corrcoef, roc_curve, confusion_matrix, classification_report, roc_auc_score\n",
        "import zipfile\n",
        "import matplotlib.ticker as ticker\n",
        "\n",
        "CONST_BATCH_SIZE = 32\n",
        "CONST_MAX_SEQ_LENGTH = 128\n",
        "CONST_NUM_EPOCHS = 3\n",
        "CONST_LEARN_RATE = 2e-5\n",
        "CONST_EPSILON = 1e-8\n",
        "CONST_TRAIN_SAMPLES = 6400\n",
        "CONST_TEST_SAMPLES = 1600\n",
        "CONST_LABEL = 'acceptability'\n",
        "CONST_TEXT = 'text'\n",
        "CONST_FILE_TYPE = 'tsv'\n",
        "CONST_FILE_NAME = 'CoLA_train.tsv'\n",
        "\n",
        "# !unzip CoLA_train.zip"
      ],
      "execution_count": 59,
      "outputs": []
    },
    {
      "cell_type": "code",
      "metadata": {
        "id": "N2AUQtRf6SiD",
        "colab": {
          "base_uri": "https://localhost:8080/"
        },
        "outputId": "adebbc01-a67d-407b-eda4-d4c754361f05"
      },
      "source": [
        "# Get the GPU device name.\n",
        "device_name = tf.test.gpu_device_name()\n",
        "\n",
        "# The device name should look like the following:\n",
        "if device_name == '/device:GPU:0':\n",
        "    print('Found GPU at: {}'.format(device_name))\n",
        "else:\n",
        "    raise SystemError('GPU device not found')"
      ],
      "execution_count": 3,
      "outputs": [
        {
          "output_type": "stream",
          "text": [
            "Found GPU at: /device:GPU:0\n"
          ],
          "name": "stdout"
        }
      ]
    },
    {
      "cell_type": "code",
      "metadata": {
        "id": "Sj9SFswG6GWf",
        "colab": {
          "base_uri": "https://localhost:8080/"
        },
        "outputId": "da13961b-99ce-47a7-92e0-8a4fa07e3ab2"
      },
      "source": [
        "# If there's a GPU available...\n",
        "if torch.cuda.is_available():    \n",
        "\n",
        "    # Tell PyTorch to use the GPU.    \n",
        "    device = torch.device(\"cuda\")\n",
        "\n",
        "    print('There are %d GPU(s) available.' % torch.cuda.device_count())\n",
        "\n",
        "    print('We will use the GPU:', torch.cuda.get_device_name(0))\n",
        "\n",
        "# If not...\n",
        "else:\n",
        "    print('No GPU available, using the CPU instead.')\n",
        "    device = torch.device(\"cpu\")"
      ],
      "execution_count": 4,
      "outputs": [
        {
          "output_type": "stream",
          "text": [
            "There are 1 GPU(s) available.\n",
            "We will use the GPU: Tesla T4\n"
          ],
          "name": "stdout"
        }
      ]
    },
    {
      "cell_type": "markdown",
      "metadata": {
        "id": "YUA3aAGM7G7u"
      },
      "source": [
        "Load our dataset"
      ]
    },
    {
      "cell_type": "code",
      "metadata": {
        "id": "8a-5pyC08dzO"
      },
      "source": [
        "# Load dataset\n",
        "if CONST_FILE_TYPE == 'csv':\n",
        "  df = pd.read_csv(CONST_FILE_NAME)\n",
        "\n",
        "if CONST_FILE_TYPE == 'tsv':\n",
        "  df = pd.read_csv(CONST_FILE_NAME, sep = '\\t', header = 0)\n",
        "\n",
        "df = df[[CONST_TEXT, CONST_LABEL]]"
      ],
      "execution_count": 5,
      "outputs": []
    },
    {
      "cell_type": "code",
      "metadata": {
        "id": "8HHnQVRq8z0n",
        "colab": {
          "base_uri": "https://localhost:8080/",
          "height": 597
        },
        "outputId": "cbcf5d24-2565-4b1d-85af-f8244e0ddf62"
      },
      "source": [
        "# df = df[df[CONST_LABEL].isin(['fake', 'real'])] # Grab only labels we want\n",
        "# Scramble data indexes from dataset. This is producing random scrambles for some reason even with the random_state seed remaining unchanged between runs.\n",
        "# The data is scrambled again down the line but this remains as an artefact from an older version.\n",
        "df = df.dropna()\n",
        "df = df.sample(frac=1, random_state = 23).reset_index(drop=True)\n",
        "print(\"========== TOTAL DATA ==========\")\n",
        "print('Total number of data entries: {:,}\\n'.format(df.shape[0]))\n",
        "print(\"Data balance percentages\")\n",
        "display(df[CONST_LABEL].value_counts(normalize=True))\n",
        "print(\"\\nData balance counts\")\n",
        "display(df[CONST_LABEL].value_counts())\n",
        "print(\"\\n\")\n",
        "display(df.sample(10))"
      ],
      "execution_count": 6,
      "outputs": [
        {
          "output_type": "stream",
          "text": [
            "========== TOTAL DATA ==========\n",
            "Total number of data entries: 8,551\n",
            "\n",
            "Data balance percentages\n"
          ],
          "name": "stdout"
        },
        {
          "output_type": "display_data",
          "data": {
            "text/plain": [
              "1    0.704362\n",
              "0    0.295638\n",
              "Name: acceptability, dtype: float64"
            ]
          },
          "metadata": {
            "tags": []
          }
        },
        {
          "output_type": "stream",
          "text": [
            "\n",
            "Data balance counts\n"
          ],
          "name": "stdout"
        },
        {
          "output_type": "display_data",
          "data": {
            "text/plain": [
              "1    6023\n",
              "0    2528\n",
              "Name: acceptability, dtype: int64"
            ]
          },
          "metadata": {
            "tags": []
          }
        },
        {
          "output_type": "stream",
          "text": [
            "\n",
            "\n"
          ],
          "name": "stdout"
        },
        {
          "output_type": "display_data",
          "data": {
            "text/html": [
              "<div>\n",
              "<style scoped>\n",
              "    .dataframe tbody tr th:only-of-type {\n",
              "        vertical-align: middle;\n",
              "    }\n",
              "\n",
              "    .dataframe tbody tr th {\n",
              "        vertical-align: top;\n",
              "    }\n",
              "\n",
              "    .dataframe thead th {\n",
              "        text-align: right;\n",
              "    }\n",
              "</style>\n",
              "<table border=\"1\" class=\"dataframe\">\n",
              "  <thead>\n",
              "    <tr style=\"text-align: right;\">\n",
              "      <th></th>\n",
              "      <th>text</th>\n",
              "      <th>acceptability</th>\n",
              "    </tr>\n",
              "  </thead>\n",
              "  <tbody>\n",
              "    <tr>\n",
              "      <th>8251</th>\n",
              "      <td>This knife doesn't cut.</td>\n",
              "      <td>1</td>\n",
              "    </tr>\n",
              "    <tr>\n",
              "      <th>1356</th>\n",
              "      <td>We would prefer John to be the candidate.</td>\n",
              "      <td>1</td>\n",
              "    </tr>\n",
              "    <tr>\n",
              "      <th>3668</th>\n",
              "      <td>Mary talks to any student.</td>\n",
              "      <td>1</td>\n",
              "    </tr>\n",
              "    <tr>\n",
              "      <th>5275</th>\n",
              "      <td>Who are you gawking at?</td>\n",
              "      <td>1</td>\n",
              "    </tr>\n",
              "    <tr>\n",
              "      <th>369</th>\n",
              "      <td>I owe that the jury acquitted me to you.</td>\n",
              "      <td>0</td>\n",
              "    </tr>\n",
              "    <tr>\n",
              "      <th>5875</th>\n",
              "      <td>Felicia sent the box off the shelf.</td>\n",
              "      <td>0</td>\n",
              "    </tr>\n",
              "    <tr>\n",
              "      <th>3403</th>\n",
              "      <td>I separated the milk of the cream.</td>\n",
              "      <td>0</td>\n",
              "    </tr>\n",
              "    <tr>\n",
              "      <th>3017</th>\n",
              "      <td>President Lincoln delivered his Gettysburg Add...</td>\n",
              "      <td>1</td>\n",
              "    </tr>\n",
              "    <tr>\n",
              "      <th>1306</th>\n",
              "      <td>Paul exhaled at Mary.</td>\n",
              "      <td>0</td>\n",
              "    </tr>\n",
              "    <tr>\n",
              "      <th>4383</th>\n",
              "      <td>That was a rude remark and in very bad taste.</td>\n",
              "      <td>1</td>\n",
              "    </tr>\n",
              "  </tbody>\n",
              "</table>\n",
              "</div>"
            ],
            "text/plain": [
              "                                                   text  acceptability\n",
              "8251                            This knife doesn't cut.              1\n",
              "1356          We would prefer John to be the candidate.              1\n",
              "3668                         Mary talks to any student.              1\n",
              "5275                            Who are you gawking at?              1\n",
              "369            I owe that the jury acquitted me to you.              0\n",
              "5875                Felicia sent the box off the shelf.              0\n",
              "3403                 I separated the milk of the cream.              0\n",
              "3017  President Lincoln delivered his Gettysburg Add...              1\n",
              "1306                              Paul exhaled at Mary.              0\n",
              "4383      That was a rude remark and in very bad taste.              1"
            ]
          },
          "metadata": {
            "tags": []
          }
        }
      ]
    },
    {
      "cell_type": "markdown",
      "metadata": {
        "id": "okSluqzG8-lh"
      },
      "source": [
        "Seperate training and testing subsets"
      ]
    },
    {
      "cell_type": "code",
      "metadata": {
        "id": "2wOwpOde8_WC",
        "colab": {
          "base_uri": "https://localhost:8080/",
          "height": 442
        },
        "outputId": "dbc24632-ba07-4b97-db12-94f3eb3020a4"
      },
      "source": [
        "train_data_df = df.head(CONST_TRAIN_SAMPLES)\n",
        "test_data_df = df.tail(CONST_TEST_SAMPLES)\n",
        "\n",
        "print(\"========== TRAINING DATA ==========\")\n",
        "print('Total number of data entries: {:,}\\n'.format(train_data_df.shape[0]))\n",
        "print(\"Data balance percentages\")\n",
        "display(train_data_df[CONST_LABEL].value_counts(normalize=True))\n",
        "print(\"\\nData balance counts\")\n",
        "display(train_data_df[CONST_LABEL].value_counts())\n",
        "print(\"\\n========== TESTING DATA ==========\")\n",
        "print('Total number of data entries: {:,}\\n'.format(test_data_df.shape[0]))\n",
        "print(\"Data balance percentages\")\n",
        "display(test_data_df[CONST_LABEL].value_counts(normalize=True))\n",
        "print(\"\\nData balance counts\")\n",
        "display(test_data_df[CONST_LABEL].value_counts())"
      ],
      "execution_count": 7,
      "outputs": [
        {
          "output_type": "stream",
          "text": [
            "========== TRAINING DATA ==========\n",
            "Total number of data entries: 6,400\n",
            "\n",
            "Data balance percentages\n"
          ],
          "name": "stdout"
        },
        {
          "output_type": "display_data",
          "data": {
            "text/plain": [
              "1    0.705156\n",
              "0    0.294844\n",
              "Name: acceptability, dtype: float64"
            ]
          },
          "metadata": {
            "tags": []
          }
        },
        {
          "output_type": "stream",
          "text": [
            "\n",
            "Data balance counts\n"
          ],
          "name": "stdout"
        },
        {
          "output_type": "display_data",
          "data": {
            "text/plain": [
              "1    4513\n",
              "0    1887\n",
              "Name: acceptability, dtype: int64"
            ]
          },
          "metadata": {
            "tags": []
          }
        },
        {
          "output_type": "stream",
          "text": [
            "\n",
            "========== TESTING DATA ==========\n",
            "Total number of data entries: 1,600\n",
            "\n",
            "Data balance percentages\n"
          ],
          "name": "stdout"
        },
        {
          "output_type": "display_data",
          "data": {
            "text/plain": [
              "1    0.695625\n",
              "0    0.304375\n",
              "Name: acceptability, dtype: float64"
            ]
          },
          "metadata": {
            "tags": []
          }
        },
        {
          "output_type": "stream",
          "text": [
            "\n",
            "Data balance counts\n"
          ],
          "name": "stdout"
        },
        {
          "output_type": "display_data",
          "data": {
            "text/plain": [
              "1    1113\n",
              "0     487\n",
              "Name: acceptability, dtype: int64"
            ]
          },
          "metadata": {
            "tags": []
          }
        }
      ]
    },
    {
      "cell_type": "code",
      "metadata": {
        "id": "w_VsapAk87Kk"
      },
      "source": [
        "# Get the lists of sentences and their labels.\n",
        "train_texts = train_data_df[CONST_TEXT]\n",
        "train_labels = train_data_df[CONST_LABEL]\n",
        "\n",
        "test_texts = test_data_df[CONST_TEXT].to_numpy()\n",
        "test_labels = test_data_df[CONST_LABEL].to_numpy()\n",
        "\n",
        "# If value == fake then make it 1. Else 0. Funky workaround as bert expects longs\n",
        "# train_labels = np.array(train_labels == 'fake')\n",
        "# train_labels = np.multiply(train_labels,1)\n",
        "# test_labels = np.array(test_labels == 'fake')\n",
        "# test_labels = np.multiply(test_labels,1)"
      ],
      "execution_count": 8,
      "outputs": []
    },
    {
      "cell_type": "markdown",
      "metadata": {
        "id": "86XhtxYQ94QM"
      },
      "source": [
        "Load and test tokenizer"
      ]
    },
    {
      "cell_type": "code",
      "metadata": {
        "id": "VQi8q3Fs9tqY",
        "colab": {
          "base_uri": "https://localhost:8080/",
          "height": 249,
          "referenced_widgets": [
            "a8db283d73d04de591064b1abfe7fafe",
            "d68542883dc846019d2c50490527de63",
            "4522e221c9e74c068f0e57868d2ad109",
            "74759b1f5fcd4db5ac84768a7d2def5d",
            "6aac9e70932a490dbbcf551f8b600968",
            "3096de980ed24a0d99eabaa80b59d797",
            "0d310975c1504ef992a2080e0d594a56",
            "bd47c107c81f4182aa071c581bf75071",
            "1514a3b94b6542b6a5d20852cf005b57",
            "df18d0e3c0364403bc59fd0dba40d997",
            "52fab3d0234d42bf9bbc8d2d90f2c275",
            "a480cb5c3fce4ad3b13dbb189afcf23a",
            "5425cedf14f64124b772debf736ea7d0",
            "1ffdcfba3f054dd89ec36c5e19077aac",
            "7f5285b043364ff6ad4dca6403e69394",
            "6593d67fb0bc42518756135508d83944",
            "ec390b662bb44c6fbab34e84480c5c66",
            "bd87c11dfe7e4421b9e859b2ab39633f",
            "a68ed017d0f2486e88319f5ca0e2ebe8",
            "883829b2686c47c7b7034c0c7382be58",
            "c8c5239fd94b481db221d0bb510a15ab",
            "2d41c4ff665445f898e281ea8cd252ba",
            "beb6ad799a9e43a1858847c5e0b93ebb",
            "e8011e455c274a9db0b2af06942a488d"
          ]
        },
        "outputId": "716c4bda-dbbe-4a77-c267-eca738f9709d"
      },
      "source": [
        "# Load the BERT tokenizer.\n",
        "print('Loading BERT tokenizer...')\n",
        "tokenizer = BertTokenizer.from_pretrained('bert-base-uncased', do_lower_case=True)\n",
        "\n",
        "# Print the original sentence.\n",
        "print(' Original: ', train_texts[0:1])\n",
        "\n",
        "# Print the sentence split into tokens.\n",
        "print('Tokenized: ', tokenizer.tokenize(train_texts[0]))\n",
        "\n",
        "# Print the sentence mapped to token ids.\n",
        "print('Token IDs: ', tokenizer.convert_tokens_to_ids(tokenizer.tokenize(train_texts[0])))"
      ],
      "execution_count": 9,
      "outputs": [
        {
          "output_type": "stream",
          "text": [
            "Loading BERT tokenizer...\n"
          ],
          "name": "stdout"
        },
        {
          "output_type": "display_data",
          "data": {
            "application/vnd.jupyter.widget-view+json": {
              "model_id": "a8db283d73d04de591064b1abfe7fafe",
              "version_minor": 0,
              "version_major": 2
            },
            "text/plain": [
              "HBox(children=(FloatProgress(value=0.0, description='Downloading', max=231508.0, style=ProgressStyle(descripti…"
            ]
          },
          "metadata": {
            "tags": []
          }
        },
        {
          "output_type": "stream",
          "text": [
            "\n"
          ],
          "name": "stdout"
        },
        {
          "output_type": "display_data",
          "data": {
            "application/vnd.jupyter.widget-view+json": {
              "model_id": "1514a3b94b6542b6a5d20852cf005b57",
              "version_minor": 0,
              "version_major": 2
            },
            "text/plain": [
              "HBox(children=(FloatProgress(value=0.0, description='Downloading', max=28.0, style=ProgressStyle(description_w…"
            ]
          },
          "metadata": {
            "tags": []
          }
        },
        {
          "output_type": "stream",
          "text": [
            "\n"
          ],
          "name": "stdout"
        },
        {
          "output_type": "display_data",
          "data": {
            "application/vnd.jupyter.widget-view+json": {
              "model_id": "ec390b662bb44c6fbab34e84480c5c66",
              "version_minor": 0,
              "version_major": 2
            },
            "text/plain": [
              "HBox(children=(FloatProgress(value=0.0, description='Downloading', max=466062.0, style=ProgressStyle(descripti…"
            ]
          },
          "metadata": {
            "tags": []
          }
        },
        {
          "output_type": "stream",
          "text": [
            "\n",
            " Original:  0    What Julie became was fond of Lloyd.\n",
            "Name: text, dtype: object\n",
            "Tokenized:  ['what', 'julie', 'became', 'was', 'fond', 'of', 'lloyd', '.']\n",
            "Token IDs:  [2054, 7628, 2150, 2001, 13545, 1997, 6746, 1012]\n"
          ],
          "name": "stdout"
        }
      ]
    },
    {
      "cell_type": "code",
      "metadata": {
        "id": "aPRn2Sta-k1Q",
        "colab": {
          "base_uri": "https://localhost:8080/"
        },
        "outputId": "cf2994b9-c43b-4e2e-d121-868d528531ab"
      },
      "source": [
        "# Report the number of sentences.\n",
        "print('Number of training entries: {:,}\\n'.format(train_data_df.shape[0]))\n",
        "\n",
        "# Tokenize all of the sentences and map the tokens to thier word IDs.\n",
        "input_ids = []\n",
        "attention_masks = []\n",
        "\n",
        "# For every sentence...\n",
        "for text in train_texts:\n",
        "    # `encode_plus` will:\n",
        "    #   (1) Tokenize the sentence.\n",
        "    #   (2) Prepend the `[CLS]` token to the start.\n",
        "    #   (3) Append the `[SEP]` token to the end.\n",
        "    #   (4) Map tokens to their IDs.\n",
        "    #   (5) Pad or truncate the sentence to `max_length`\n",
        "    #   (6) Create attention masks for [PAD] tokens.\n",
        "    encoded_dict = tokenizer.encode_plus(\n",
        "                        text,                      # Sentence to encode.\n",
        "                        add_special_tokens = True, # Add '[CLS]' and '[SEP]'\n",
        "                        max_length = CONST_MAX_SEQ_LENGTH,           # Pad & truncate all sentences.\n",
        "                        pad_to_max_length = True,\n",
        "                        return_attention_mask = True,   # Construct attn. masks.\n",
        "                        return_tensors = 'pt',     # Return pytorch tensors.\n",
        "                   )\n",
        "    \n",
        "    # Add the encoded sentence to the list.    \n",
        "    input_ids.append(encoded_dict['input_ids'])\n",
        "    \n",
        "    # And its attention mask (simply differentiates padding from non-padding).\n",
        "    attention_masks.append(encoded_dict['attention_mask'])\n",
        "\n",
        "# Convert the lists into tensors.\n",
        "input_ids = torch.cat(input_ids, dim=0)\n",
        "attention_masks = torch.cat(attention_masks, dim=0)\n",
        "labels = torch.tensor(train_labels)\n",
        "\n",
        "# Print sentence 0, now as a list of IDs.\n",
        "print('Original: ', train_texts[0:1])\n",
        "print('Token IDs:', input_ids[0])"
      ],
      "execution_count": 10,
      "outputs": [
        {
          "output_type": "stream",
          "text": [
            "Truncation was not explicitly activated but `max_length` is provided a specific value, please use `truncation=True` to explicitly truncate examples to max length. Defaulting to 'longest_first' truncation strategy. If you encode pairs of sequences (GLUE-style) with the tokenizer you can select this strategy more precisely by providing a specific strategy to `truncation`.\n"
          ],
          "name": "stderr"
        },
        {
          "output_type": "stream",
          "text": [
            "Number of training entries: 6,400\n",
            "\n"
          ],
          "name": "stdout"
        },
        {
          "output_type": "stream",
          "text": [
            "/usr/local/lib/python3.7/dist-packages/transformers/tokenization_utils_base.py:2079: FutureWarning: The `pad_to_max_length` argument is deprecated and will be removed in a future version, use `padding=True` or `padding='longest'` to pad to the longest sequence in the batch, or use `padding='max_length'` to pad to a max length. In this case, you can give a specific length with `max_length` (e.g. `max_length=45`) or leave max_length to None to pad to the maximal input size of the model (e.g. 512 for Bert).\n",
            "  FutureWarning,\n"
          ],
          "name": "stderr"
        },
        {
          "output_type": "stream",
          "text": [
            "Original:  0    What Julie became was fond of Lloyd.\n",
            "Name: text, dtype: object\n",
            "Token IDs: tensor([  101,  2054,  7628,  2150,  2001, 13545,  1997,  6746,  1012,   102,\n",
            "            0,     0,     0,     0,     0,     0,     0,     0,     0,     0,\n",
            "            0,     0,     0,     0,     0,     0,     0,     0,     0,     0,\n",
            "            0,     0,     0,     0,     0,     0,     0,     0,     0,     0,\n",
            "            0,     0,     0,     0,     0,     0,     0,     0,     0,     0,\n",
            "            0,     0,     0,     0,     0,     0,     0,     0,     0,     0,\n",
            "            0,     0,     0,     0,     0,     0,     0,     0,     0,     0,\n",
            "            0,     0,     0,     0,     0,     0,     0,     0,     0,     0,\n",
            "            0,     0,     0,     0,     0,     0,     0,     0,     0,     0,\n",
            "            0,     0,     0,     0,     0,     0,     0,     0,     0,     0,\n",
            "            0,     0,     0,     0,     0,     0,     0,     0,     0,     0,\n",
            "            0,     0,     0,     0,     0,     0,     0,     0,     0,     0,\n",
            "            0,     0,     0,     0,     0,     0,     0,     0])\n"
          ],
          "name": "stdout"
        }
      ]
    },
    {
      "cell_type": "code",
      "metadata": {
        "id": "tbspJd0B_zWs",
        "colab": {
          "base_uri": "https://localhost:8080/"
        },
        "outputId": "7a95d465-334c-4923-d792-0931dec859d6"
      },
      "source": [
        "# Combine the training inputs into a TensorDataset.\n",
        "dataset = TensorDataset(input_ids, attention_masks, labels)\n",
        "\n",
        "# Create a 90-10 train-validation split.\n",
        "\n",
        "# Calculate the number of samples to include in each set.\n",
        "train_size = int(0.9 * len(dataset))\n",
        "val_size = len(dataset) - train_size\n",
        "\n",
        "# Divide the dataset by randomly selecting samples.\n",
        "train_dataset, val_dataset = random_split(dataset, [train_size, val_size])\n",
        "\n",
        "print('{:>5,} training samples'.format(train_size))\n",
        "print('{:>5,} validation samples'.format(val_size))"
      ],
      "execution_count": 11,
      "outputs": [
        {
          "output_type": "stream",
          "text": [
            "5,760 training samples\n",
            "  640 validation samples\n"
          ],
          "name": "stdout"
        }
      ]
    },
    {
      "cell_type": "code",
      "metadata": {
        "id": "xZ0x6YgtAFm8"
      },
      "source": [
        "# The DataLoader needs to know our batch size for training, so we specify it \n",
        "# here. For fine-tuning BERT on a specific task, the authors recommend a batch \n",
        "# size of 16 or 32.\n",
        "batch_size = CONST_BATCH_SIZE\n",
        "\n",
        "# Create the DataLoaders for our training and validation sets.\n",
        "# We'll take training samples in random order. \n",
        "train_dataloader = DataLoader(\n",
        "            train_dataset,  # The training samples.\n",
        "            sampler = RandomSampler(train_dataset), # Select batches randomly\n",
        "            batch_size = batch_size # Trains with this batch size.\n",
        "        )\n",
        "\n",
        "# For validation the order doesn't matter, so we'll just read them sequentially.\n",
        "validation_dataloader = DataLoader(\n",
        "            val_dataset, # The validation samples.\n",
        "            sampler = SequentialSampler(val_dataset), # Pull out batches sequentially.\n",
        "            batch_size = batch_size # Evaluate with this batch size.\n",
        "        )"
      ],
      "execution_count": 12,
      "outputs": []
    },
    {
      "cell_type": "code",
      "metadata": {
        "id": "QZRYYD-5AOdY"
      },
      "source": [
        "# Load BertForSequenceClassification, the pretrained BERT model with a single \n",
        "# linear classification layer on top. \n",
        "model = BertForSequenceClassification.from_pretrained(\n",
        "    \"bert-base-uncased\", # Use the 12-layer BERT model, with an uncased vocab.\n",
        "    num_labels = 2, # The number of output labels--2 for binary classification.\n",
        "                    # You can increase this for multi-class tasks.   \n",
        "    output_attentions = False, # Whether the model returns attentions weights.\n",
        "    output_hidden_states = False, # Whether the model returns all hidden-states.\n",
        ")\n",
        "\n",
        "# Tell pytorch to run this model on the GPU.\n",
        "model.cuda()"
      ],
      "execution_count": null,
      "outputs": []
    },
    {
      "cell_type": "code",
      "metadata": {
        "id": "iznqE09hAXat",
        "colab": {
          "base_uri": "https://localhost:8080/"
        },
        "outputId": "0f31d5d9-0411-40bc-af4d-457722dd54f2"
      },
      "source": [
        "# Get all of the model's parameters as a list of tuples.\n",
        "params = list(model.named_parameters())\n",
        "\n",
        "print('The BERT model has {:} different named parameters.\\n'.format(len(params)))\n",
        "\n",
        "print('==== Embedding Layer ====\\n')\n",
        "\n",
        "for p in params[0:5]:\n",
        "    print(\"{:<55} {:>12}\".format(p[0], str(tuple(p[1].size()))))\n",
        "\n",
        "print('\\n==== First Transformer ====\\n')\n",
        "\n",
        "for p in params[5:21]:\n",
        "    print(\"{:<55} {:>12}\".format(p[0], str(tuple(p[1].size()))))\n",
        "\n",
        "print('\\n==== Output Layer ====\\n')\n",
        "\n",
        "for p in params[-4:]:\n",
        "    print(\"{:<55} {:>12}\".format(p[0], str(tuple(p[1].size()))))"
      ],
      "execution_count": 14,
      "outputs": [
        {
          "output_type": "stream",
          "text": [
            "The BERT model has 201 different named parameters.\n",
            "\n",
            "==== Embedding Layer ====\n",
            "\n",
            "bert.embeddings.word_embeddings.weight                  (30522, 768)\n",
            "bert.embeddings.position_embeddings.weight                (512, 768)\n",
            "bert.embeddings.token_type_embeddings.weight                (2, 768)\n",
            "bert.embeddings.LayerNorm.weight                              (768,)\n",
            "bert.embeddings.LayerNorm.bias                                (768,)\n",
            "\n",
            "==== First Transformer ====\n",
            "\n",
            "bert.encoder.layer.0.attention.self.query.weight          (768, 768)\n",
            "bert.encoder.layer.0.attention.self.query.bias                (768,)\n",
            "bert.encoder.layer.0.attention.self.key.weight            (768, 768)\n",
            "bert.encoder.layer.0.attention.self.key.bias                  (768,)\n",
            "bert.encoder.layer.0.attention.self.value.weight          (768, 768)\n",
            "bert.encoder.layer.0.attention.self.value.bias                (768,)\n",
            "bert.encoder.layer.0.attention.output.dense.weight        (768, 768)\n",
            "bert.encoder.layer.0.attention.output.dense.bias              (768,)\n",
            "bert.encoder.layer.0.attention.output.LayerNorm.weight        (768,)\n",
            "bert.encoder.layer.0.attention.output.LayerNorm.bias          (768,)\n",
            "bert.encoder.layer.0.intermediate.dense.weight           (3072, 768)\n",
            "bert.encoder.layer.0.intermediate.dense.bias                 (3072,)\n",
            "bert.encoder.layer.0.output.dense.weight                 (768, 3072)\n",
            "bert.encoder.layer.0.output.dense.bias                        (768,)\n",
            "bert.encoder.layer.0.output.LayerNorm.weight                  (768,)\n",
            "bert.encoder.layer.0.output.LayerNorm.bias                    (768,)\n",
            "\n",
            "==== Output Layer ====\n",
            "\n",
            "bert.pooler.dense.weight                                  (768, 768)\n",
            "bert.pooler.dense.bias                                        (768,)\n",
            "classifier.weight                                           (2, 768)\n",
            "classifier.bias                                                 (2,)\n"
          ],
          "name": "stdout"
        }
      ]
    },
    {
      "cell_type": "code",
      "metadata": {
        "id": "h3lXGKtmAckv"
      },
      "source": [
        "# Note: AdamW is a class from the huggingface library (as opposed to pytorch) \n",
        "# I believe the 'W' stands for 'Weight Decay fix\"\n",
        "optimizer = AdamW(model.parameters(),\n",
        "                  lr = CONST_LEARN_RATE, # args.learning_rate - default is 5e-5, our notebook had 2e-5\n",
        "                  eps = CONST_EPSILON # args.adam_epsilon  - default is 1e-8.\n",
        "                )"
      ],
      "execution_count": 15,
      "outputs": []
    },
    {
      "cell_type": "code",
      "metadata": {
        "id": "_5QfRjwoAkMc"
      },
      "source": [
        "# Number of training epochs. The BERT authors recommend between 2 and 4. \n",
        "# We chose to run for 4, but we'll see later that this may be over-fitting the\n",
        "# training data.\n",
        "epochs = CONST_NUM_EPOCHS\n",
        "\n",
        "# Total number of training steps is [number of batches] x [number of epochs]. \n",
        "# (Note that this is not the same as the number of training samples).\n",
        "total_steps = len(train_dataloader) * epochs\n",
        "\n",
        "# Create the learning rate scheduler.\n",
        "scheduler = get_linear_schedule_with_warmup(optimizer, \n",
        "                                            num_warmup_steps = 0, # Default value in run_glue.py\n",
        "                                            num_training_steps = total_steps)"
      ],
      "execution_count": 16,
      "outputs": []
    },
    {
      "cell_type": "code",
      "metadata": {
        "id": "aWtGyTIKAt-B"
      },
      "source": [
        "# Function to calculate the accuracy of our predictions vs labels\n",
        "def flat_accuracy(preds, labels):\n",
        "    pred_flat = np.argmax(preds, axis=1).flatten()\n",
        "    labels_flat = labels.flatten()\n",
        "    return np.sum(pred_flat == labels_flat) / len(labels_flat)\n",
        "\n",
        "def format_time(elapsed):\n",
        "    '''\n",
        "    Takes a time in seconds and returns a string hh:mm:ss\n",
        "    '''\n",
        "    # Round to the nearest second.\n",
        "    elapsed_rounded = int(round((elapsed)))\n",
        "    \n",
        "    # Format as hh:mm:ss\n",
        "    return str(datetime.timedelta(seconds=elapsed_rounded))"
      ],
      "execution_count": 17,
      "outputs": []
    },
    {
      "cell_type": "code",
      "metadata": {
        "id": "58So89vWA7wk",
        "colab": {
          "base_uri": "https://localhost:8080/"
        },
        "outputId": "c2ec71ce-58b6-4f23-b8de-b70ddfae7a86"
      },
      "source": [
        "# This training code is based on the `run_glue.py` script here:\n",
        "# https://github.com/huggingface/transformers/blob/5bfcd0485ece086ebcbed2d008813037968a9e58/examples/run_glue.py#L128\n",
        "\n",
        "# Set the seed value all over the place to make this reproducible.\n",
        "seed_val = 42\n",
        "\n",
        "random.seed(seed_val)\n",
        "np.random.seed(seed_val)\n",
        "torch.manual_seed(seed_val)\n",
        "torch.cuda.manual_seed_all(seed_val)\n",
        "\n",
        "# We'll store a number of quantities such as training and validation loss, \n",
        "# validation accuracy, and timings.\n",
        "training_stats = []\n",
        "\n",
        "# Measure the total training time for the whole run.\n",
        "total_t0 = time.time()\n",
        "\n",
        "# For each epoch...\n",
        "for epoch_i in range(0, epochs):\n",
        "    \n",
        "    # ========================================\n",
        "    #               Training\n",
        "    # ========================================\n",
        "    \n",
        "    # Perform one full pass over the training set.\n",
        "\n",
        "    print(\"\")\n",
        "    print('======== Epoch {:} / {:} ========'.format(epoch_i + 1, epochs))\n",
        "    print('Training...')\n",
        "\n",
        "    # Measure how long the training epoch takes.\n",
        "    t0 = time.time()\n",
        "\n",
        "    # Reset the total loss for this epoch.\n",
        "    total_train_loss = 0\n",
        "\n",
        "    # Put the model into training mode. Don't be mislead--the call to \n",
        "    # `train` just changes the *mode*, it doesn't *perform* the training.\n",
        "    # `dropout` and `batchnorm` layers behave differently during training\n",
        "    # vs. test (source: https://stackoverflow.com/questions/51433378/what-does-model-train-do-in-pytorch)\n",
        "    model.train()\n",
        "\n",
        "    # For each batch of training data...\n",
        "    for step, batch in enumerate(train_dataloader):\n",
        "\n",
        "        # Progress update every 10 batches.\n",
        "        if step % 10 == 0 and not step == 0:\n",
        "            # Calculate elapsed time in minutes.\n",
        "            elapsed = format_time(time.time() - t0)\n",
        "            \n",
        "            # Report progress.\n",
        "            print('  Batch {:>5,}  of  {:>5,}.    Elapsed: {:}.'.format(step, len(train_dataloader), elapsed))\n",
        "\n",
        "        # Unpack this training batch from our dataloader. \n",
        "        #\n",
        "        # As we unpack the batch, we'll also copy each tensor to the GPU using the \n",
        "        # `to` method.\n",
        "        #\n",
        "        # `batch` contains three pytorch tensors:\n",
        "        #   [0]: input ids \n",
        "        #   [1]: attention masks\n",
        "        #   [2]: labels \n",
        "        b_input_ids = batch[0].to(device)\n",
        "        b_input_mask = batch[1].to(device)\n",
        "        b_labels = batch[2].to(device)\n",
        "\n",
        "        # Always clear any previously calculated gradients before performing a\n",
        "        # backward pass. PyTorch doesn't do this automatically because \n",
        "        # accumulating the gradients is \"convenient while training RNNs\". \n",
        "        # (source: https://stackoverflow.com/questions/48001598/why-do-we-need-to-call-zero-grad-in-pytorch)\n",
        "        model.zero_grad()        \n",
        "\n",
        "        # Perform a forward pass (evaluate the model on this training batch).\n",
        "        # The documentation for this `model` function is here: \n",
        "        # https://huggingface.co/transformers/v2.2.0/model_doc/bert.html#transformers.BertForSequenceClassification\n",
        "        # It returns different numbers of parameters depending on what arguments\n",
        "        # arge given and what flags are set. For our useage here, it returns\n",
        "        # the loss (because we provided labels) and the \"logits\"--the model\n",
        "        # outputs prior to activation.\n",
        "        outputs = model(b_input_ids, \n",
        "                             token_type_ids=None, \n",
        "                             attention_mask=b_input_mask, \n",
        "                             labels=b_labels)\n",
        "\n",
        "        loss = outputs.loss\n",
        "        logits = outputs.logits\n",
        "\n",
        "        # Accumulate the training loss over all of the batches so that we can\n",
        "        # calculate the average loss at the end. `loss` is a Tensor containing a\n",
        "        # single value; the `.item()` function just returns the Python value \n",
        "        # from the tensor.\n",
        "        total_train_loss += loss.item()\n",
        "\n",
        "        # Perform a backward pass to calculate the gradients.\n",
        "        loss.backward()\n",
        "\n",
        "        # Clip the norm of the gradients to 1.0.\n",
        "        # This is to help prevent the \"exploding gradients\" problem.\n",
        "        torch.nn.utils.clip_grad_norm_(model.parameters(), 1.0)\n",
        "\n",
        "        # Update parameters and take a step using the computed gradient.\n",
        "        # The optimizer dictates the \"update rule\"--how the parameters are\n",
        "        # modified based on their gradients, the learning rate, etc.\n",
        "        optimizer.step()\n",
        "\n",
        "        # Update the learning rate.\n",
        "        scheduler.step()\n",
        "\n",
        "    # Calculate the average loss over all of the batches.\n",
        "    avg_train_loss = total_train_loss / len(train_dataloader)            \n",
        "    \n",
        "    # Measure how long this epoch took.\n",
        "    training_time = format_time(time.time() - t0)\n",
        "\n",
        "    print(\"\")\n",
        "    print(\"  Average training loss: {0:.2f}\".format(avg_train_loss))\n",
        "    print(\"  Training epoch took: {:}\".format(training_time))\n",
        "        \n",
        "    # ========================================\n",
        "    #               Validation\n",
        "    # ========================================\n",
        "    # After the completion of each training epoch, measure our performance on\n",
        "    # our validation set.\n",
        "\n",
        "    print(\"\")\n",
        "    print(\"Running Validation...\")\n",
        "\n",
        "    t0 = time.time()\n",
        "\n",
        "    # Put the model in evaluation mode--the dropout layers behave differently\n",
        "    # during evaluation.\n",
        "    model.eval()\n",
        "\n",
        "    # Tracking variables \n",
        "    total_eval_accuracy = 0\n",
        "    total_eval_loss = 0\n",
        "    nb_eval_steps = 0\n",
        "\n",
        "    # Evaluate data for one epoch\n",
        "    for batch in validation_dataloader:\n",
        "        \n",
        "        # Unpack this training batch from our dataloader. \n",
        "        #\n",
        "        # As we unpack the batch, we'll also copy each tensor to the GPU using \n",
        "        # the `to` method.\n",
        "        #\n",
        "        # `batch` contains three pytorch tensors:\n",
        "        #   [0]: input ids \n",
        "        #   [1]: attention masks\n",
        "        #   [2]: labels \n",
        "        b_input_ids = batch[0].to(device)\n",
        "        b_input_mask = batch[1].to(device)\n",
        "        b_labels = batch[2].to(device)\n",
        "        \n",
        "        # Tell pytorch not to bother with constructing the compute graph during\n",
        "        # the forward pass, since this is only needed for backprop (training).\n",
        "        with torch.no_grad():        \n",
        "\n",
        "            # Forward pass, calculate logit predictions.\n",
        "            # token_type_ids is the same as the \"segment ids\", which \n",
        "            # differentiates sentence 1 and 2 in 2-sentence tasks.\n",
        "            # The documentation for this `model` function is here: \n",
        "            # https://huggingface.co/transformers/v2.2.0/model_doc/bert.html#transformers.BertForSequenceClassification\n",
        "            # Get the \"logits\" output by the model. The \"logits\" are the output\n",
        "            # values prior to applying an activation function like the softmax.\n",
        "            outputs = model(b_input_ids, \n",
        "                                   token_type_ids=None, \n",
        "                                   attention_mask=b_input_mask,\n",
        "                                   labels=b_labels)\n",
        "            \n",
        "            loss = outputs.loss\n",
        "            logits = outputs.logits\n",
        "        # Accumulate the validation loss.\n",
        "        total_eval_loss += loss.item()\n",
        "\n",
        "        # Move logits and labels to CPU\n",
        "        logits = logits.detach().cpu().numpy()\n",
        "        label_ids = b_labels.to('cpu').numpy()\n",
        "\n",
        "        # Calculate the accuracy for this batch of test sentences, and\n",
        "        # accumulate it over all batches.\n",
        "        total_eval_accuracy += flat_accuracy(logits, label_ids)\n",
        "        \n",
        "\n",
        "    # Report the final accuracy for this validation run.\n",
        "    avg_val_accuracy = total_eval_accuracy / len(validation_dataloader)\n",
        "    print(\"  Accuracy: {0:.2f}\".format(avg_val_accuracy))\n",
        "\n",
        "    # Calculate the average loss over all of the batches.\n",
        "    avg_val_loss = total_eval_loss / len(validation_dataloader)\n",
        "    \n",
        "    # Measure how long the validation run took.\n",
        "    validation_time = format_time(time.time() - t0)\n",
        "    \n",
        "    print(\"  Validation Loss: {0:.2f}\".format(avg_val_loss))\n",
        "    print(\"  Validation took: {:}\".format(validation_time))\n",
        "\n",
        "    # Record all statistics from this epoch.\n",
        "    training_stats.append(\n",
        "        {\n",
        "            'epoch': epoch_i + 1,\n",
        "            'Training Loss': avg_train_loss,\n",
        "            'Valid. Loss': avg_val_loss,\n",
        "            'Valid. Accur.': avg_val_accuracy,\n",
        "            'Training Time': training_time,\n",
        "            'Validation Time': validation_time\n",
        "        }\n",
        "    )\n",
        "\n",
        "print(\"\")\n",
        "print(\"Training complete!\")\n",
        "\n",
        "print(\"Total training took {:} (h:mm:ss)\".format(format_time(time.time()-total_t0)))"
      ],
      "execution_count": 18,
      "outputs": [
        {
          "output_type": "stream",
          "text": [
            "\n",
            "======== Epoch 1 / 3 ========\n",
            "Training...\n",
            "  Batch    10  of    180.    Elapsed: 0:00:07.\n",
            "  Batch    20  of    180.    Elapsed: 0:00:14.\n",
            "  Batch    30  of    180.    Elapsed: 0:00:21.\n",
            "  Batch    40  of    180.    Elapsed: 0:00:28.\n",
            "  Batch    50  of    180.    Elapsed: 0:00:36.\n",
            "  Batch    60  of    180.    Elapsed: 0:00:43.\n",
            "  Batch    70  of    180.    Elapsed: 0:00:50.\n",
            "  Batch    80  of    180.    Elapsed: 0:00:57.\n",
            "  Batch    90  of    180.    Elapsed: 0:01:04.\n",
            "  Batch   100  of    180.    Elapsed: 0:01:11.\n",
            "  Batch   110  of    180.    Elapsed: 0:01:18.\n",
            "  Batch   120  of    180.    Elapsed: 0:01:25.\n",
            "  Batch   130  of    180.    Elapsed: 0:01:32.\n",
            "  Batch   140  of    180.    Elapsed: 0:01:39.\n",
            "  Batch   150  of    180.    Elapsed: 0:01:46.\n",
            "  Batch   160  of    180.    Elapsed: 0:01:53.\n",
            "  Batch   170  of    180.    Elapsed: 0:02:00.\n",
            "\n",
            "  Average training loss: 0.50\n",
            "  Training epoch took: 0:02:07\n",
            "\n",
            "Running Validation...\n",
            "  Accuracy: 0.80\n",
            "  Validation Loss: 0.44\n",
            "  Validation took: 0:00:05\n",
            "\n",
            "======== Epoch 2 / 3 ========\n",
            "Training...\n",
            "  Batch    10  of    180.    Elapsed: 0:00:07.\n",
            "  Batch    20  of    180.    Elapsed: 0:00:14.\n",
            "  Batch    30  of    180.    Elapsed: 0:00:21.\n",
            "  Batch    40  of    180.    Elapsed: 0:00:28.\n",
            "  Batch    50  of    180.    Elapsed: 0:00:35.\n",
            "  Batch    60  of    180.    Elapsed: 0:00:42.\n",
            "  Batch    70  of    180.    Elapsed: 0:00:49.\n",
            "  Batch    80  of    180.    Elapsed: 0:00:56.\n",
            "  Batch    90  of    180.    Elapsed: 0:01:03.\n",
            "  Batch   100  of    180.    Elapsed: 0:01:10.\n",
            "  Batch   110  of    180.    Elapsed: 0:01:17.\n",
            "  Batch   120  of    180.    Elapsed: 0:01:24.\n",
            "  Batch   130  of    180.    Elapsed: 0:01:31.\n",
            "  Batch   140  of    180.    Elapsed: 0:01:38.\n",
            "  Batch   150  of    180.    Elapsed: 0:01:45.\n",
            "  Batch   160  of    180.    Elapsed: 0:01:52.\n",
            "  Batch   170  of    180.    Elapsed: 0:01:59.\n",
            "\n",
            "  Average training loss: 0.31\n",
            "  Training epoch took: 0:02:06\n",
            "\n",
            "Running Validation...\n",
            "  Accuracy: 0.81\n",
            "  Validation Loss: 0.50\n",
            "  Validation took: 0:00:05\n",
            "\n",
            "======== Epoch 3 / 3 ========\n",
            "Training...\n",
            "  Batch    10  of    180.    Elapsed: 0:00:07.\n",
            "  Batch    20  of    180.    Elapsed: 0:00:14.\n",
            "  Batch    30  of    180.    Elapsed: 0:00:21.\n",
            "  Batch    40  of    180.    Elapsed: 0:00:28.\n",
            "  Batch    50  of    180.    Elapsed: 0:00:35.\n",
            "  Batch    60  of    180.    Elapsed: 0:00:42.\n",
            "  Batch    70  of    180.    Elapsed: 0:00:49.\n",
            "  Batch    80  of    180.    Elapsed: 0:00:56.\n",
            "  Batch    90  of    180.    Elapsed: 0:01:03.\n",
            "  Batch   100  of    180.    Elapsed: 0:01:10.\n",
            "  Batch   110  of    180.    Elapsed: 0:01:17.\n",
            "  Batch   120  of    180.    Elapsed: 0:01:24.\n",
            "  Batch   130  of    180.    Elapsed: 0:01:31.\n",
            "  Batch   140  of    180.    Elapsed: 0:01:38.\n",
            "  Batch   150  of    180.    Elapsed: 0:01:45.\n",
            "  Batch   160  of    180.    Elapsed: 0:01:52.\n",
            "  Batch   170  of    180.    Elapsed: 0:01:59.\n",
            "\n",
            "  Average training loss: 0.20\n",
            "  Training epoch took: 0:02:06\n",
            "\n",
            "Running Validation...\n",
            "  Accuracy: 0.81\n",
            "  Validation Loss: 0.57\n",
            "  Validation took: 0:00:05\n",
            "\n",
            "Training complete!\n",
            "Total training took 0:06:35 (h:mm:ss)\n"
          ],
          "name": "stdout"
        }
      ]
    },
    {
      "cell_type": "code",
      "metadata": {
        "id": "of5AwpaONAph",
        "colab": {
          "base_uri": "https://localhost:8080/",
          "height": 173
        },
        "outputId": "e192b2ee-1045-4c96-e4f7-009f8d49328c"
      },
      "source": [
        "# Display floats with two decimal places.\n",
        "pd.set_option('precision', 2)\n",
        "\n",
        "# Create a DataFrame from our training statistics.\n",
        "df_stats = pd.DataFrame(data=training_stats)\n",
        "\n",
        "# Use the 'epoch' as the row index.\n",
        "df_stats = df_stats.set_index('epoch')\n",
        "\n",
        "# A hack to force the column headers to wrap.\n",
        "#df = df.style.set_table_styles([dict(selector=\"th\",props=[('max-width', '70px')])])\n",
        "\n",
        "# Display the table.\n",
        "df_stats"
      ],
      "execution_count": 19,
      "outputs": [
        {
          "output_type": "execute_result",
          "data": {
            "text/html": [
              "<div>\n",
              "<style scoped>\n",
              "    .dataframe tbody tr th:only-of-type {\n",
              "        vertical-align: middle;\n",
              "    }\n",
              "\n",
              "    .dataframe tbody tr th {\n",
              "        vertical-align: top;\n",
              "    }\n",
              "\n",
              "    .dataframe thead th {\n",
              "        text-align: right;\n",
              "    }\n",
              "</style>\n",
              "<table border=\"1\" class=\"dataframe\">\n",
              "  <thead>\n",
              "    <tr style=\"text-align: right;\">\n",
              "      <th></th>\n",
              "      <th>Training Loss</th>\n",
              "      <th>Valid. Loss</th>\n",
              "      <th>Valid. Accur.</th>\n",
              "      <th>Training Time</th>\n",
              "      <th>Validation Time</th>\n",
              "    </tr>\n",
              "    <tr>\n",
              "      <th>epoch</th>\n",
              "      <th></th>\n",
              "      <th></th>\n",
              "      <th></th>\n",
              "      <th></th>\n",
              "      <th></th>\n",
              "    </tr>\n",
              "  </thead>\n",
              "  <tbody>\n",
              "    <tr>\n",
              "      <th>1</th>\n",
              "      <td>0.50</td>\n",
              "      <td>0.44</td>\n",
              "      <td>0.80</td>\n",
              "      <td>0:02:07</td>\n",
              "      <td>0:00:05</td>\n",
              "    </tr>\n",
              "    <tr>\n",
              "      <th>2</th>\n",
              "      <td>0.31</td>\n",
              "      <td>0.50</td>\n",
              "      <td>0.81</td>\n",
              "      <td>0:02:06</td>\n",
              "      <td>0:00:05</td>\n",
              "    </tr>\n",
              "    <tr>\n",
              "      <th>3</th>\n",
              "      <td>0.20</td>\n",
              "      <td>0.57</td>\n",
              "      <td>0.81</td>\n",
              "      <td>0:02:06</td>\n",
              "      <td>0:00:05</td>\n",
              "    </tr>\n",
              "  </tbody>\n",
              "</table>\n",
              "</div>"
            ],
            "text/plain": [
              "       Training Loss  Valid. Loss  Valid. Accur. Training Time Validation Time\n",
              "epoch                                                                         \n",
              "1               0.50         0.44           0.80       0:02:07         0:00:05\n",
              "2               0.31         0.50           0.81       0:02:06         0:00:05\n",
              "3               0.20         0.57           0.81       0:02:06         0:00:05"
            ]
          },
          "metadata": {
            "tags": []
          },
          "execution_count": 19
        }
      ]
    },
    {
      "cell_type": "code",
      "metadata": {
        "id": "drU08e--BJEI",
        "colab": {
          "base_uri": "https://localhost:8080/",
          "height": 427
        },
        "outputId": "3d9d4ee3-b570-48f8-e842-efb50aa34171"
      },
      "source": [
        "%matplotlib inline\n",
        "\n",
        "# Use plot styling from seaborn.\n",
        "sns.set(style='darkgrid')\n",
        "\n",
        "# Increase the plot size and font size.\n",
        "sns.set(font_scale=1.5)\n",
        "plt.rcParams[\"figure.figsize\"] = (12,6)\n",
        "\n",
        "# Plot the learning curve.\n",
        "plt.plot(df_stats['Training Loss'], 'b-o', label=\"Training\")\n",
        "plt.plot(df_stats['Valid. Loss'], 'g-o', label=\"Validation\")\n",
        "\n",
        "# Label the plot.\n",
        "plt.title(\"Training & Validation Loss\")\n",
        "plt.xlabel(\"Epoch\")\n",
        "plt.ylabel(\"Loss\")\n",
        "plt.legend()\n",
        "plt.xticks([1, 2, 3, 4])\n",
        "plt.show()"
      ],
      "execution_count": 20,
      "outputs": [
        {
          "output_type": "display_data",
          "data": {
            "image/png": "[encoded data removed]",
            "text/plain": [
              "<Figure size 864x432 with 1 Axes>"
            ]
          },
          "metadata": {
            "tags": []
          }
        }
      ]
    },
    {
      "cell_type": "code",
      "metadata": {
        "id": "vsQGHV-6NTrg",
        "colab": {
          "base_uri": "https://localhost:8080/"
        },
        "outputId": "07457fd6-cc99-4df8-9a96-9a45a13f2a60"
      },
      "source": [
        "# Report the number of sentences.\n",
        "print('Number of test entries: {:,}\\n'.format(test_data_df.shape[0]))\n",
        "\n",
        "# Tokenize all of the sentences and map the tokens to their word IDs.\n",
        "input_ids = []\n",
        "attention_masks = []\n",
        "\n",
        "# For every sentence...\n",
        "for text in test_texts:\n",
        "    # `encode_plus` will:\n",
        "    #   (1) Tokenize the sentence.\n",
        "    #   (2) Prepend the `[CLS]` token to the start.\n",
        "    #   (3) Append the `[SEP]` token to the end.\n",
        "    #   (4) Map tokens to their IDs.\n",
        "    #   (5) Pad or truncate the sentence to `max_length`\n",
        "    #   (6) Create attention masks for [PAD] tokens.\n",
        "    encoded_dict = tokenizer.encode_plus(\n",
        "                        text,                      # Sentence to encode.\n",
        "                        add_special_tokens = True, # Add '[CLS]' and '[SEP]'\n",
        "                        max_length = CONST_MAX_SEQ_LENGTH,           # Pad & truncate all sentences.\n",
        "                        pad_to_max_length = True,\n",
        "                        return_attention_mask = True,   # Construct attn. masks.\n",
        "                        return_tensors = 'pt',     # Return pytorch tensors.\n",
        "                   )\n",
        "    \n",
        "    # Add the encoded sentence to the list.    \n",
        "    input_ids.append(encoded_dict['input_ids'])\n",
        "    \n",
        "    # And its attention mask (simply differentiates padding from non-padding).\n",
        "    attention_masks.append(encoded_dict['attention_mask'])\n",
        "\n",
        "# Convert the lists into tensors.\n",
        "input_ids = torch.cat(input_ids, dim=0)\n",
        "attention_masks = torch.cat(attention_masks, dim=0)\n",
        "labels = torch.tensor(test_labels)\n",
        "\n",
        "# Set the batch size.  \n",
        "batch_size = CONST_BATCH_SIZE  \n",
        "\n",
        "# Create the DataLoader.\n",
        "prediction_data = TensorDataset(input_ids, attention_masks, labels)\n",
        "prediction_sampler = SequentialSampler(prediction_data)\n",
        "prediction_dataloader = DataLoader(prediction_data, sampler=prediction_sampler, batch_size=batch_size)"
      ],
      "execution_count": 21,
      "outputs": [
        {
          "output_type": "stream",
          "text": [
            "Number of test entries: 1,600\n",
            "\n"
          ],
          "name": "stdout"
        },
        {
          "output_type": "stream",
          "text": [
            "/usr/local/lib/python3.7/dist-packages/transformers/tokenization_utils_base.py:2079: FutureWarning: The `pad_to_max_length` argument is deprecated and will be removed in a future version, use `padding=True` or `padding='longest'` to pad to the longest sequence in the batch, or use `padding='max_length'` to pad to a max length. In this case, you can give a specific length with `max_length` (e.g. `max_length=45`) or leave max_length to None to pad to the maximal input size of the model (e.g. 512 for Bert).\n",
            "  FutureWarning,\n"
          ],
          "name": "stderr"
        }
      ]
    },
    {
      "cell_type": "code",
      "metadata": {
        "id": "LarLkCN1Qh5E",
        "colab": {
          "base_uri": "https://localhost:8080/"
        },
        "outputId": "63d9da7f-8da8-4666-cea5-56358889075c"
      },
      "source": [
        "# Prediction on test set\n",
        "\n",
        "print('Predicting labels for {:,} test sentences...'.format(len(input_ids)))\n",
        "\n",
        "# Put model in evaluation mode\n",
        "model.eval()\n",
        "\n",
        "# Tracking variables \n",
        "predictions , true_labels = [], []\n",
        "\n",
        "# Predict \n",
        "for batch in prediction_dataloader:\n",
        "  # Add batch to GPU\n",
        "  batch = tuple(t.to(device) for t in batch)\n",
        "  \n",
        "  # Unpack the inputs from our dataloader\n",
        "  b_input_ids, b_input_mask, b_labels = batch\n",
        "  \n",
        "  # Telling the model not to compute or store gradients, saving memory and \n",
        "  # speeding up prediction\n",
        "  with torch.no_grad():\n",
        "      # Forward pass, calculate logit predictions\n",
        "      outputs = model(b_input_ids, \n",
        "                     token_type_ids=None, \n",
        "                     attention_mask=b_input_mask,\n",
        "                     return_dict=True)\n",
        "\n",
        "  logits = outputs.logits\n",
        "\n",
        "  # Move logits and labels to CPU\n",
        "  logits = logits.detach().cpu().numpy()\n",
        "  label_ids = b_labels.to('cpu').numpy()\n",
        "  \n",
        "  # Store predictions and true labels\n",
        "  predictions.append(logits)\n",
        "  true_labels.append(label_ids)\n",
        "\n",
        "print('    DONE.')"
      ],
      "execution_count": 22,
      "outputs": [
        {
          "output_type": "stream",
          "text": [
            "Predicting labels for 1,600 test sentences...\n",
            "    DONE.\n"
          ],
          "name": "stdout"
        }
      ]
    },
    {
      "cell_type": "code",
      "metadata": {
        "id": "uAtj6RjqThiP",
        "colab": {
          "base_uri": "https://localhost:8080/"
        },
        "outputId": "fec1376a-70bf-4c4f-8dd1-d7a93383f7e5"
      },
      "source": [
        "matthews_set = []\n",
        "probits_set = []\n",
        "\n",
        "# Evaluate each test batch using Matthew's correlation coefficient\n",
        "print('Calculating Matthews Corr. Coef. for each batch...')\n",
        "\n",
        "# For each input batch...\n",
        "for i in range(len(true_labels)):\n",
        "  \n",
        "  # The predictions for this batch are a 2-column ndarray (one column for \"0\" \n",
        "  # and one column for \"1\"). Pick the label with the highest value and turn this\n",
        "  # in to a list of 0s and 1s.\n",
        "  pred_labels_i = np.argmax(predictions[i], axis=1).flatten()\n",
        "  \n",
        "  # Calculate and store the coef for this batch.  \n",
        "  matthews = matthews_corrcoef(true_labels[i], pred_labels_i)                \n",
        "  matthews_set.append(matthews)\n",
        "\n",
        "  # Calculate probits for ROC\n",
        "  probit = torch.sigmoid(torch.from_numpy(predictions[i]))\n",
        "  for i in range(len(predictions[i])):\n",
        "    probits_set.append(probit[i][1])"
      ],
      "execution_count": 40,
      "outputs": [
        {
          "output_type": "stream",
          "text": [
            "Calculating Matthews Corr. Coef. for each batch...\n",
            "[tensor(0.1475), tensor(0.8778), tensor(0.1454), tensor(0.8865), tensor(0.9042), tensor(0.4048), tensor(0.8808), tensor(0.8868), tensor(0.4090), tensor(0.2739), tensor(0.8931), tensor(0.1490), tensor(0.9145), tensor(0.9047), tensor(0.8783), tensor(0.8940), tensor(0.8933), tensor(0.7943), tensor(0.1905), tensor(0.8908), tensor(0.8810), tensor(0.8814), tensor(0.9159), tensor(0.8952), tensor(0.8985), tensor(0.1747), tensor(0.9061), tensor(0.9068), tensor(0.9029), tensor(0.8977), tensor(0.7916), tensor(0.8965), tensor(0.1749), tensor(0.8851), tensor(0.1806), tensor(0.7522), tensor(0.7644), tensor(0.8926), tensor(0.8758), tensor(0.9073), tensor(0.8822), tensor(0.8398), tensor(0.9048), tensor(0.8863), tensor(0.5129), tensor(0.9074), tensor(0.8917), tensor(0.9020), tensor(0.2213), tensor(0.9128), tensor(0.8841), tensor(0.8963), tensor(0.8913), tensor(0.9108), tensor(0.8786), tensor(0.8031), tensor(0.8899), tensor(0.9145), tensor(0.8998), tensor(0.8975), tensor(0.7431), tensor(0.1560), tensor(0.1989), tensor(0.8545), tensor(0.6498), tensor(0.9022), tensor(0.1463), tensor(0.1948), tensor(0.8858), tensor(0.8921), tensor(0.9137), tensor(0.8872), tensor(0.9056), tensor(0.5593), tensor(0.9073), tensor(0.8555), tensor(0.1531), tensor(0.1541), tensor(0.8978), tensor(0.9050), tensor(0.8968), tensor(0.8643), tensor(0.9061), tensor(0.1757), tensor(0.9054), tensor(0.8522), tensor(0.8935), tensor(0.8786), tensor(0.8848), tensor(0.9177), tensor(0.9123), tensor(0.2019), tensor(0.9030), tensor(0.8860), tensor(0.8835), tensor(0.2256), tensor(0.7602), tensor(0.8649), tensor(0.9042), tensor(0.8879), tensor(0.8877), tensor(0.4231), tensor(0.8891), tensor(0.8877), tensor(0.8925), tensor(0.8979), tensor(0.9033), tensor(0.8966), tensor(0.9044), tensor(0.9071), tensor(0.7528), tensor(0.8966), tensor(0.9046), tensor(0.8964), tensor(0.9003), tensor(0.8997), tensor(0.8840), tensor(0.7101), tensor(0.9038), tensor(0.5675), tensor(0.8586), tensor(0.6764), tensor(0.8968), tensor(0.1682), tensor(0.9095), tensor(0.4255), tensor(0.5797), tensor(0.8974), tensor(0.8892), tensor(0.8947), tensor(0.5109), tensor(0.8684), tensor(0.8796), tensor(0.9019), tensor(0.8480), tensor(0.1459), tensor(0.8866), tensor(0.8789), tensor(0.1573), tensor(0.8946), tensor(0.9103), tensor(0.8947), tensor(0.8953), tensor(0.8818), tensor(0.8951), tensor(0.9009), tensor(0.9140), tensor(0.8707), tensor(0.8933), tensor(0.8952), tensor(0.8976), tensor(0.8967), tensor(0.1697), tensor(0.8565), tensor(0.8605), tensor(0.9075), tensor(0.6857), tensor(0.8286), tensor(0.2315), tensor(0.8799), tensor(0.1405), tensor(0.6706), tensor(0.8994), tensor(0.8840), tensor(0.8782), tensor(0.8995), tensor(0.7703), tensor(0.9056), tensor(0.8888), tensor(0.6042), tensor(0.2092), tensor(0.3424), tensor(0.6108), tensor(0.8413), tensor(0.1526), tensor(0.9003), tensor(0.8886), tensor(0.1688), tensor(0.2760), tensor(0.9093), tensor(0.9104), tensor(0.3755), tensor(0.9138), tensor(0.8175), tensor(0.8409), tensor(0.8004), tensor(0.8969), tensor(0.9095), tensor(0.6501), tensor(0.9073), tensor(0.9065), tensor(0.8999), tensor(0.6041), tensor(0.2742), tensor(0.1500), tensor(0.9014), tensor(0.8963), tensor(0.2980), tensor(0.8952), tensor(0.8959), tensor(0.8886), tensor(0.8901), tensor(0.8936), tensor(0.8971), tensor(0.8723), tensor(0.8953), tensor(0.7948), tensor(0.9042), tensor(0.9085), tensor(0.8482), tensor(0.7519), tensor(0.8299), tensor(0.8908), tensor(0.1601), tensor(0.8504), tensor(0.9078), tensor(0.8802), tensor(0.3357), tensor(0.9081), tensor(0.1979), tensor(0.8926), tensor(0.6617), tensor(0.8967), tensor(0.8062), tensor(0.8984), tensor(0.5278), tensor(0.9097), tensor(0.9008), tensor(0.1870), tensor(0.6246), tensor(0.8957), tensor(0.8892), tensor(0.4304), tensor(0.8899), tensor(0.1535), tensor(0.1501), tensor(0.9052), tensor(0.9061), tensor(0.9162), tensor(0.8986), tensor(0.8865), tensor(0.7976), tensor(0.9063), tensor(0.8590), tensor(0.8730), tensor(0.8935), tensor(0.8826), tensor(0.2641), tensor(0.8954), tensor(0.8961), tensor(0.8706), tensor(0.9098), tensor(0.9006), tensor(0.7937), tensor(0.8970), tensor(0.8945), tensor(0.8962), tensor(0.7846), tensor(0.1627), tensor(0.8748), tensor(0.8743), tensor(0.8790), tensor(0.8943), tensor(0.2689), tensor(0.1923), tensor(0.8949), tensor(0.8815), tensor(0.8815), tensor(0.5678), tensor(0.8782), tensor(0.8795), tensor(0.8110), tensor(0.3770), tensor(0.9033), tensor(0.6456), tensor(0.8970), tensor(0.9099), tensor(0.8822), tensor(0.3070), tensor(0.8896), tensor(0.2830), tensor(0.9110), tensor(0.6044), tensor(0.6905), tensor(0.8972), tensor(0.1729), tensor(0.8850), tensor(0.8994), tensor(0.8802), tensor(0.8856), tensor(0.1961), tensor(0.5183), tensor(0.9041), tensor(0.8929), tensor(0.1936), tensor(0.8731), tensor(0.8890), tensor(0.2529), tensor(0.3616), tensor(0.8983), tensor(0.8959), tensor(0.1425), tensor(0.9002), tensor(0.6961), tensor(0.9085), tensor(0.8190), tensor(0.8078), tensor(0.8940), tensor(0.8841), tensor(0.9022), tensor(0.8886), tensor(0.9029), tensor(0.8964), tensor(0.2775), tensor(0.6278), tensor(0.9064), tensor(0.8821), tensor(0.1391), tensor(0.2775), tensor(0.9092), tensor(0.4591), tensor(0.1377), tensor(0.8923), tensor(0.8101), tensor(0.1521), tensor(0.9095), tensor(0.8586), tensor(0.9101), tensor(0.8860), tensor(0.2548), tensor(0.7895), tensor(0.8830), tensor(0.8876), tensor(0.1895), tensor(0.8886), tensor(0.7568), tensor(0.9001), tensor(0.8552), tensor(0.8976), tensor(0.9144), tensor(0.9021), tensor(0.9121), tensor(0.9112), tensor(0.9084), tensor(0.1451), tensor(0.9030), tensor(0.9026), tensor(0.9189), tensor(0.8971), tensor(0.8941), tensor(0.9114), tensor(0.9015), tensor(0.1716), tensor(0.8916), tensor(0.8774), tensor(0.9059), tensor(0.8875), tensor(0.9046), tensor(0.7559), tensor(0.8056), tensor(0.8957), tensor(0.9090), tensor(0.8843), tensor(0.9053), tensor(0.9101), tensor(0.7363), tensor(0.5324), tensor(0.9088), tensor(0.8523), tensor(0.9019), tensor(0.9029), tensor(0.8669), tensor(0.9074), tensor(0.4160), tensor(0.8986), tensor(0.8807), tensor(0.8933), tensor(0.8963), tensor(0.8594), tensor(0.8918), tensor(0.8974), tensor(0.8919), tensor(0.8581), tensor(0.8931), tensor(0.8991), tensor(0.1653), tensor(0.9141), tensor(0.2490), tensor(0.8867), tensor(0.9049), tensor(0.9074), tensor(0.9158), tensor(0.8577), tensor(0.8670), tensor(0.8875), tensor(0.9021), tensor(0.1622), tensor(0.8991), tensor(0.8640), tensor(0.8907), tensor(0.9036), tensor(0.1468), tensor(0.8975), tensor(0.8875), tensor(0.2523), tensor(0.5147), tensor(0.8967), tensor(0.8460), tensor(0.8846), tensor(0.1574), tensor(0.8814), tensor(0.8878), tensor(0.9017), tensor(0.9039), tensor(0.2602), tensor(0.8943), tensor(0.8886), tensor(0.8979), tensor(0.9009), tensor(0.2618), tensor(0.2626), tensor(0.8895), tensor(0.8906), tensor(0.5330), tensor(0.8919), tensor(0.8766), tensor(0.4379), tensor(0.8639), tensor(0.8845), tensor(0.2441), tensor(0.9002), tensor(0.8867), tensor(0.3766), tensor(0.1584), tensor(0.8947), tensor(0.2608), tensor(0.9070), tensor(0.9107), tensor(0.2588), tensor(0.9073), tensor(0.8978), tensor(0.9083), tensor(0.2210), tensor(0.7520), tensor(0.8854), tensor(0.8925), tensor(0.9153), tensor(0.7076), tensor(0.8715), tensor(0.2573), tensor(0.8926), tensor(0.8346), tensor(0.8476), tensor(0.8789), tensor(0.8977), tensor(0.9006), tensor(0.9053), tensor(0.8900), tensor(0.8877), tensor(0.5305), tensor(0.1544), tensor(0.8103), tensor(0.8856), tensor(0.7473), tensor(0.8904), tensor(0.1946), tensor(0.2013), tensor(0.7440), tensor(0.8980), tensor(0.8924), tensor(0.9178), tensor(0.9160), tensor(0.1544), tensor(0.8311), tensor(0.9043), tensor(0.8081), tensor(0.9039), tensor(0.3121), tensor(0.5880), tensor(0.3436), tensor(0.9031), tensor(0.9100), tensor(0.8184), tensor(0.8858), tensor(0.8700), tensor(0.5387), tensor(0.9058), tensor(0.8690), tensor(0.8809), tensor(0.4511), tensor(0.9167), tensor(0.7481), tensor(0.8733), tensor(0.8887), tensor(0.1828), tensor(0.8894), tensor(0.1720), tensor(0.9068), tensor(0.8879), tensor(0.8858), tensor(0.2008), tensor(0.8847), tensor(0.8941), tensor(0.8860), tensor(0.8282), tensor(0.8930), tensor(0.9034), tensor(0.1433), tensor(0.9046), tensor(0.8995), tensor(0.8940), tensor(0.9059), tensor(0.8835), tensor(0.9120), tensor(0.8839), tensor(0.9198), tensor(0.9001), tensor(0.8725), tensor(0.8901), tensor(0.9171), tensor(0.8696), tensor(0.8828), tensor(0.8848), tensor(0.9157), tensor(0.6831), tensor(0.2331), tensor(0.8723), tensor(0.8953), tensor(0.9003), tensor(0.9030), tensor(0.7530), tensor(0.8920), tensor(0.8956), tensor(0.9024), tensor(0.9219), tensor(0.8690), tensor(0.8954), tensor(0.5595), tensor(0.8675), tensor(0.9016), tensor(0.2070), tensor(0.8780), tensor(0.8758), tensor(0.1939), tensor(0.5772), tensor(0.6263), tensor(0.2954), tensor(0.3117), tensor(0.9045), tensor(0.8940), tensor(0.4768), tensor(0.8910), tensor(0.8654), tensor(0.8982), tensor(0.8964), tensor(0.8878), tensor(0.8973), tensor(0.8885), tensor(0.9054), tensor(0.1708), tensor(0.9184), tensor(0.8866), tensor(0.9025), tensor(0.8956), tensor(0.8983), tensor(0.9127), tensor(0.8900), tensor(0.8391), tensor(0.8602), tensor(0.8887), tensor(0.8532), tensor(0.2813), tensor(0.7882), tensor(0.9037), tensor(0.9016), tensor(0.8581), tensor(0.2450), tensor(0.5495), tensor(0.1753), tensor(0.8873), tensor(0.8465), tensor(0.8915), tensor(0.9086), tensor(0.5806), tensor(0.8653), tensor(0.8909), tensor(0.8958), tensor(0.8505), tensor(0.8782), tensor(0.8573), tensor(0.9102), tensor(0.8771), tensor(0.8803), tensor(0.8587), tensor(0.8780), tensor(0.8822), tensor(0.4711), tensor(0.8848), tensor(0.9003), tensor(0.8897), tensor(0.8869), tensor(0.8927), tensor(0.5967), tensor(0.8797), tensor(0.8346), tensor(0.8906), tensor(0.2213), tensor(0.9017), tensor(0.8872), tensor(0.1823), tensor(0.9017), tensor(0.8786), tensor(0.6941), tensor(0.1546), tensor(0.8947), tensor(0.8922), tensor(0.7905), tensor(0.8923), tensor(0.9099), tensor(0.8941), tensor(0.4636), tensor(0.8373), tensor(0.8334), tensor(0.7711), tensor(0.2425), tensor(0.8878), tensor(0.9019), tensor(0.9080), tensor(0.8868), tensor(0.9013), tensor(0.8994), tensor(0.3473), tensor(0.8938), tensor(0.8908), tensor(0.8970), tensor(0.6533), tensor(0.1541), tensor(0.8848), tensor(0.9030), tensor(0.5102), tensor(0.4396), tensor(0.8977), tensor(0.1533), tensor(0.8755), tensor(0.7050), tensor(0.9027), tensor(0.6868), tensor(0.1622), tensor(0.1365), tensor(0.9020), tensor(0.9011), tensor(0.9077), tensor(0.7169), tensor(0.8951), tensor(0.7005), tensor(0.3720), tensor(0.8888), tensor(0.8513), tensor(0.9108), tensor(0.8866), tensor(0.1611), tensor(0.8956), tensor(0.8988), tensor(0.8461), tensor(0.9053), tensor(0.7591), tensor(0.7520), tensor(0.7980), tensor(0.8740), tensor(0.9088), tensor(0.8800), tensor(0.8501), tensor(0.8954), tensor(0.3428), tensor(0.9188), tensor(0.8923), tensor(0.8920), tensor(0.9063), tensor(0.9090), tensor(0.2340), tensor(0.2231), tensor(0.9037), tensor(0.9007), tensor(0.8942), tensor(0.8959), tensor(0.8869), tensor(0.9103), tensor(0.1989), tensor(0.1747), tensor(0.2199), tensor(0.4986), tensor(0.8899), tensor(0.8451), tensor(0.9082), tensor(0.8010), tensor(0.8733), tensor(0.8903), tensor(0.8873), tensor(0.8950), tensor(0.8838), tensor(0.7184), tensor(0.3391), tensor(0.8991), tensor(0.9001), tensor(0.9068), tensor(0.2276), tensor(0.8927), tensor(0.8888), tensor(0.7389), tensor(0.8791), tensor(0.8355), tensor(0.8991), tensor(0.8841), tensor(0.9037), tensor(0.8870), tensor(0.8513), tensor(0.7345), tensor(0.9083), tensor(0.2258), tensor(0.9053), tensor(0.2877), tensor(0.1764), tensor(0.8752), tensor(0.4504), tensor(0.9101), tensor(0.3754), tensor(0.8812), tensor(0.8238), tensor(0.3684), tensor(0.8956), tensor(0.8987), tensor(0.8512), tensor(0.8910), tensor(0.8976), tensor(0.9042), tensor(0.8851), tensor(0.4922), tensor(0.8980), tensor(0.9174), tensor(0.8941), tensor(0.1639), tensor(0.9095), tensor(0.4078), tensor(0.9201), tensor(0.8860), tensor(0.9027), tensor(0.8979), tensor(0.1500), tensor(0.3152), tensor(0.8993), tensor(0.9182), tensor(0.8267), tensor(0.8729), tensor(0.2426), tensor(0.8215), tensor(0.8793), tensor(0.5802), tensor(0.1731), tensor(0.9095), tensor(0.8909), tensor(0.9170), tensor(0.8421), tensor(0.8304), tensor(0.9187), tensor(0.9025), tensor(0.8013), tensor(0.6503), tensor(0.8737), tensor(0.1404), tensor(0.1548), tensor(0.9054), tensor(0.1418), tensor(0.9124), tensor(0.1436), tensor(0.8751), tensor(0.5769), tensor(0.8906), tensor(0.8975), tensor(0.8930), tensor(0.8669), tensor(0.2504), tensor(0.6690), tensor(0.8923), tensor(0.1536), tensor(0.8913), tensor(0.8965), tensor(0.8834), tensor(0.8981), tensor(0.1536), tensor(0.9062), tensor(0.8925), tensor(0.8723), tensor(0.3704), tensor(0.9015), tensor(0.8134), tensor(0.8972), tensor(0.1641), tensor(0.9031), tensor(0.1904), tensor(0.9034), tensor(0.5954), tensor(0.1678), tensor(0.8911), tensor(0.9054), tensor(0.2040), tensor(0.2043), tensor(0.2274), tensor(0.1508), tensor(0.7451), tensor(0.8360), tensor(0.8941), tensor(0.7695), tensor(0.8792), tensor(0.9005), tensor(0.8970), tensor(0.8828), tensor(0.8971), tensor(0.8984), tensor(0.1361), tensor(0.8940), tensor(0.7737), tensor(0.8758), tensor(0.9058), tensor(0.9151), tensor(0.8827), tensor(0.9062), tensor(0.8954), tensor(0.8917), tensor(0.9029), tensor(0.9013), tensor(0.4411), tensor(0.8768), tensor(0.8856), tensor(0.8903), tensor(0.9097), tensor(0.8603), tensor(0.8655), tensor(0.8993), tensor(0.8895), tensor(0.8896), tensor(0.3341), tensor(0.7918), tensor(0.8933), tensor(0.9116), tensor(0.1558), tensor(0.8977), tensor(0.8774), tensor(0.9005), tensor(0.9045), tensor(0.8975), tensor(0.8872), tensor(0.9044), tensor(0.8881), tensor(0.9106), tensor(0.1774), tensor(0.8978), tensor(0.8780), tensor(0.1410), tensor(0.8957), tensor(0.8649), tensor(0.8188), tensor(0.6768), tensor(0.1455), tensor(0.8965), tensor(0.1733), tensor(0.8955), tensor(0.8961), tensor(0.8776), tensor(0.8988), tensor(0.1648), tensor(0.1414), tensor(0.7737), tensor(0.8927), tensor(0.4491), tensor(0.8837), tensor(0.9082), tensor(0.8815), tensor(0.7992), tensor(0.8764), tensor(0.9054), tensor(0.8775), tensor(0.4218), tensor(0.8976), tensor(0.8776), tensor(0.1643), tensor(0.5820), tensor(0.8989), tensor(0.4529), tensor(0.8933), tensor(0.8942), tensor(0.8871), tensor(0.8948), tensor(0.8520), tensor(0.8858), tensor(0.8190), tensor(0.8899), tensor(0.8956), tensor(0.8839), tensor(0.9036), tensor(0.9115), tensor(0.8676), tensor(0.8846), tensor(0.8588), tensor(0.2558), tensor(0.8818), tensor(0.9074), tensor(0.8958), tensor(0.9064), tensor(0.9044), tensor(0.8902), tensor(0.8932), tensor(0.8615), tensor(0.8833), tensor(0.8957), tensor(0.9191), tensor(0.1486), tensor(0.8877), tensor(0.8842), tensor(0.6098), tensor(0.1449), tensor(0.9036), tensor(0.9009), tensor(0.8990), tensor(0.8577), tensor(0.5270), tensor(0.8976), tensor(0.2493), tensor(0.2512), tensor(0.8927), tensor(0.1439), tensor(0.2501), tensor(0.8918), tensor(0.3459), tensor(0.8920), tensor(0.8972), tensor(0.7033), tensor(0.9017), tensor(0.6392), tensor(0.8963), tensor(0.5916), tensor(0.8245), tensor(0.8624), tensor(0.9048), tensor(0.8934), tensor(0.8629), tensor(0.6031), tensor(0.2059), tensor(0.9114), tensor(0.8885), tensor(0.7401), tensor(0.9148), tensor(0.1609), tensor(0.7902), tensor(0.8983), tensor(0.8934), tensor(0.8930), tensor(0.8954), tensor(0.9076), tensor(0.8916), tensor(0.8369), tensor(0.9041), tensor(0.8991), tensor(0.7612), tensor(0.7898), tensor(0.2136), tensor(0.8618), tensor(0.1489), tensor(0.8248), tensor(0.8882), tensor(0.9046), tensor(0.8829), tensor(0.8999), tensor(0.8829), tensor(0.8876), tensor(0.9105), tensor(0.9017), tensor(0.8974), tensor(0.9125), tensor(0.3585), tensor(0.8906), tensor(0.9018), tensor(0.9017), tensor(0.8660), tensor(0.9041), tensor(0.1992), tensor(0.8960), tensor(0.8875), tensor(0.8994), tensor(0.8971), tensor(0.9125), tensor(0.8496), tensor(0.4962), tensor(0.6522), tensor(0.8937), tensor(0.9087), tensor(0.1543), tensor(0.8965), tensor(0.9060), tensor(0.8649), tensor(0.9106), tensor(0.3842), tensor(0.8404), tensor(0.8848), tensor(0.7884), tensor(0.8840), tensor(0.8805), tensor(0.9004), tensor(0.1872), tensor(0.9001), tensor(0.1485), tensor(0.8966), tensor(0.7327), tensor(0.2907), tensor(0.1983), tensor(0.9113), tensor(0.8888), tensor(0.8763), tensor(0.8122), tensor(0.4855), tensor(0.6251), tensor(0.8645), tensor(0.8974), tensor(0.9013), tensor(0.8958), tensor(0.3600), tensor(0.9031), tensor(0.9028), tensor(0.8919), tensor(0.9122), tensor(0.1576), tensor(0.8982), tensor(0.9002), tensor(0.8903), tensor(0.9066), tensor(0.9016), tensor(0.8791), tensor(0.3563), tensor(0.7701), tensor(0.7695), tensor(0.9102), tensor(0.8842), tensor(0.8888), tensor(0.2434), tensor(0.7109), tensor(0.6175), tensor(0.8893), tensor(0.9099), tensor(0.9235), tensor(0.8937), tensor(0.8930), tensor(0.4080), tensor(0.8983), tensor(0.4031), tensor(0.6958), tensor(0.9082), tensor(0.9128), tensor(0.7301), tensor(0.9079), tensor(0.1550), tensor(0.8892), tensor(0.9077), tensor(0.9054), tensor(0.2043), tensor(0.7991), tensor(0.5200), tensor(0.1329), tensor(0.1991), tensor(0.8896), tensor(0.8954), tensor(0.8839), tensor(0.8990), tensor(0.3897), tensor(0.8896), tensor(0.9101), tensor(0.8896), tensor(0.9048), tensor(0.9094), tensor(0.9067), tensor(0.8972), tensor(0.8962), tensor(0.7551), tensor(0.9033), tensor(0.8933), tensor(0.8871), tensor(0.9129), tensor(0.8988), tensor(0.1750), tensor(0.3916), tensor(0.3852), tensor(0.8915), tensor(0.8901), tensor(0.1962), tensor(0.9103), tensor(0.4742), tensor(0.8956), tensor(0.9050), tensor(0.8967), tensor(0.9104), tensor(0.8982), tensor(0.8827), tensor(0.8819), tensor(0.6556), tensor(0.8963), tensor(0.1542), tensor(0.9116), tensor(0.1907), tensor(0.8983), tensor(0.9039), tensor(0.8854), tensor(0.8979), tensor(0.1448), tensor(0.8690), tensor(0.1475), tensor(0.8627), tensor(0.8949), tensor(0.2523), tensor(0.8800), tensor(0.6345), tensor(0.8866), tensor(0.7186), tensor(0.9054), tensor(0.9089), tensor(0.8694), tensor(0.8941), tensor(0.7578), tensor(0.1636), tensor(0.9090), tensor(0.8978), tensor(0.9043), tensor(0.3404), tensor(0.9041), tensor(0.1510), tensor(0.8915), tensor(0.8869), tensor(0.7630), tensor(0.8496), tensor(0.9087), tensor(0.8943), tensor(0.7284), tensor(0.7556), tensor(0.4914), tensor(0.8762), tensor(0.8894), tensor(0.8888), tensor(0.9103), tensor(0.2075), tensor(0.8979), tensor(0.8925), tensor(0.8824), tensor(0.9001), tensor(0.8911), tensor(0.8753), tensor(0.9129), tensor(0.1542), tensor(0.1805), tensor(0.1995), tensor(0.9053), tensor(0.1702), tensor(0.1652), tensor(0.9012), tensor(0.3675), tensor(0.9032), tensor(0.8939), tensor(0.2044), tensor(0.9018), tensor(0.9017), tensor(0.9036), tensor(0.9083), tensor(0.8938), tensor(0.8895), tensor(0.9173), tensor(0.1524), tensor(0.5462), tensor(0.8369), tensor(0.2124), tensor(0.8899), tensor(0.8972), tensor(0.8910), tensor(0.8940), tensor(0.8957), tensor(0.7684), tensor(0.8984), tensor(0.8959), tensor(0.8246), tensor(0.4296), tensor(0.8919), tensor(0.9176), tensor(0.8481), tensor(0.8786), tensor(0.9062), tensor(0.9021), tensor(0.9010), tensor(0.7703), tensor(0.8697), tensor(0.1435), tensor(0.1704), tensor(0.7407), tensor(0.8601), tensor(0.6431), tensor(0.5467), tensor(0.4782), tensor(0.7792), tensor(0.9081), tensor(0.8818), tensor(0.9054), tensor(0.3510), tensor(0.3771), tensor(0.9163), tensor(0.8859), tensor(0.8986), tensor(0.8919), tensor(0.9127), tensor(0.2233), tensor(0.9058), tensor(0.8747), tensor(0.1745), tensor(0.8962), tensor(0.8817), tensor(0.8949), tensor(0.9011), tensor(0.8888), tensor(0.2843), tensor(0.8795), tensor(0.1793), tensor(0.4674), tensor(0.5327), tensor(0.3628), tensor(0.9099), tensor(0.8554), tensor(0.7623), tensor(0.8848), tensor(0.1447), tensor(0.8861), tensor(0.8939), tensor(0.1969), tensor(0.9107), tensor(0.8993), tensor(0.9050), tensor(0.8804), tensor(0.8904), tensor(0.8924), tensor(0.8198), tensor(0.8860), tensor(0.8850), tensor(0.7562), tensor(0.9031), tensor(0.9074), tensor(0.8539), tensor(0.8717), tensor(0.8821), tensor(0.8914), tensor(0.8239), tensor(0.9068), tensor(0.8885), tensor(0.9068), tensor(0.8592), tensor(0.1643), tensor(0.8047), tensor(0.8903), tensor(0.6320), tensor(0.9219), tensor(0.1519), tensor(0.7525), tensor(0.8790), tensor(0.8158), tensor(0.9060), tensor(0.9071), tensor(0.8899), tensor(0.9068), tensor(0.3018), tensor(0.9025), tensor(0.8618), tensor(0.6385), tensor(0.8884), tensor(0.8975), tensor(0.8971), tensor(0.9101), tensor(0.9150), tensor(0.8723), tensor(0.5622), tensor(0.2330), tensor(0.8764), tensor(0.8969), tensor(0.9004), tensor(0.7956), tensor(0.8924), tensor(0.8861), tensor(0.3280), tensor(0.7919), tensor(0.1608), tensor(0.9034), tensor(0.9120), tensor(0.8986), tensor(0.8861), tensor(0.8766), tensor(0.8893), tensor(0.6194), tensor(0.9190), tensor(0.7297), tensor(0.8944), tensor(0.9104), tensor(0.8960), tensor(0.8938), tensor(0.9033), tensor(0.8979), tensor(0.4866), tensor(0.1971), tensor(0.8950), tensor(0.2428), tensor(0.8903), tensor(0.9051), tensor(0.9011), tensor(0.8389), tensor(0.8789), tensor(0.8904), tensor(0.8732), tensor(0.1707), tensor(0.5574), tensor(0.1892), tensor(0.8859), tensor(0.9009), tensor(0.1692), tensor(0.1468), tensor(0.8970), tensor(0.1747), tensor(0.1410), tensor(0.8949), tensor(0.9139), tensor(0.8890), tensor(0.1925), tensor(0.8866), tensor(0.8813), tensor(0.9098), tensor(0.2421), tensor(0.8983), tensor(0.1571), tensor(0.2800), tensor(0.8850), tensor(0.9101), tensor(0.7153), tensor(0.8877), tensor(0.8929), tensor(0.5972), tensor(0.9050), tensor(0.8484), tensor(0.2705), tensor(0.8930), tensor(0.6308), tensor(0.9138), tensor(0.9055), tensor(0.3216), tensor(0.8913), tensor(0.8838), tensor(0.9070), tensor(0.3649), tensor(0.1872), tensor(0.8952), tensor(0.3718), tensor(0.2708), tensor(0.1996), tensor(0.9028), tensor(0.8216), tensor(0.8941), tensor(0.9125), tensor(0.9193), tensor(0.3528), tensor(0.8906), tensor(0.1765), tensor(0.2466), tensor(0.9198), tensor(0.9031), tensor(0.9151), tensor(0.9133), tensor(0.8954), tensor(0.7655), tensor(0.9086), tensor(0.8997), tensor(0.2834), tensor(0.2312), tensor(0.9150), tensor(0.8997), tensor(0.7942), tensor(0.8884), tensor(0.8990), tensor(0.8118), tensor(0.8933), tensor(0.8886), tensor(0.8944), tensor(0.8894), tensor(0.9064), tensor(0.9015), tensor(0.8890), tensor(0.9019), tensor(0.8877), tensor(0.8980), tensor(0.8955), tensor(0.8875), tensor(0.8996), tensor(0.2954), tensor(0.9086), tensor(0.2762), tensor(0.8961), tensor(0.8539), tensor(0.9005), tensor(0.8597), tensor(0.9064), tensor(0.2794), tensor(0.8625), tensor(0.8876), tensor(0.8661), tensor(0.8891), tensor(0.8866), tensor(0.1514), tensor(0.8792), tensor(0.8684), tensor(0.8722), tensor(0.8870), tensor(0.9029), tensor(0.8900), tensor(0.8895), tensor(0.8895), tensor(0.8851), tensor(0.6403), tensor(0.8916), tensor(0.8815), tensor(0.8811), tensor(0.8967), tensor(0.8784), tensor(0.8517), tensor(0.8821), tensor(0.5663), tensor(0.9088), tensor(0.8040), tensor(0.8676), tensor(0.8762), tensor(0.8702), tensor(0.9091), tensor(0.2842), tensor(0.1659), tensor(0.8908), tensor(0.8812), tensor(0.1785), tensor(0.8909), tensor(0.8737), tensor(0.8892), tensor(0.8999), tensor(0.8720), tensor(0.2515), tensor(0.1613), tensor(0.8975), tensor(0.8834), tensor(0.9027), tensor(0.9115), tensor(0.1673), tensor(0.9044), tensor(0.8795), tensor(0.9087), tensor(0.8869), tensor(0.8933), tensor(0.8907), tensor(0.9036), tensor(0.8673), tensor(0.8984), tensor(0.9055), tensor(0.9140), tensor(0.3880), tensor(0.8957), tensor(0.7377), tensor(0.7473), tensor(0.8293), tensor(0.8899), tensor(0.8821), tensor(0.8780), tensor(0.8866), tensor(0.8802), tensor(0.8983), tensor(0.8329), tensor(0.8705), tensor(0.8950), tensor(0.9080), tensor(0.8934), tensor(0.9014), tensor(0.8780), tensor(0.8983), tensor(0.4601), tensor(0.9031), tensor(0.9137), tensor(0.9094), tensor(0.8997), tensor(0.3525), tensor(0.7911), tensor(0.8975), tensor(0.8998), tensor(0.1492), tensor(0.8883), tensor(0.8838), tensor(0.8917), tensor(0.9053), tensor(0.9000), tensor(0.5590), tensor(0.9101), tensor(0.9001), tensor(0.5334), tensor(0.8991), tensor(0.8732), tensor(0.2250), tensor(0.8864), tensor(0.8998), tensor(0.1726), tensor(0.9013), tensor(0.8973), tensor(0.8994), tensor(0.8951), tensor(0.9021), tensor(0.1897), tensor(0.8865), tensor(0.8833), tensor(0.8681), tensor(0.1611), tensor(0.5676), tensor(0.8915), tensor(0.6939), tensor(0.7387), tensor(0.9138), tensor(0.3367), tensor(0.9064), tensor(0.8963), tensor(0.9132), tensor(0.4380), tensor(0.1983), tensor(0.9022), tensor(0.8852), tensor(0.5614), tensor(0.8577), tensor(0.8773), tensor(0.9051), tensor(0.8875), tensor(0.3389), tensor(0.8890), tensor(0.8836), tensor(0.8784), tensor(0.8244), tensor(0.7250), tensor(0.7132), tensor(0.8612), tensor(0.4268), tensor(0.8971), tensor(0.4312), tensor(0.8939), tensor(0.8346), tensor(0.6236), tensor(0.9117), tensor(0.9120), tensor(0.9064), tensor(0.9057), tensor(0.9002), tensor(0.8995), tensor(0.8901), tensor(0.1817), tensor(0.9100), tensor(0.9092), tensor(0.8754), tensor(0.8959), tensor(0.4736), tensor(0.8955), tensor(0.8574), tensor(0.7330), tensor(0.5292), tensor(0.6912), tensor(0.8826), tensor(0.8540), tensor(0.9068), tensor(0.8885), tensor(0.6839), tensor(0.8981), tensor(0.9104), tensor(0.9076), tensor(0.8990), tensor(0.9069), tensor(0.8824), tensor(0.1978), tensor(0.8967), tensor(0.8995), tensor(0.9026), tensor(0.8852), tensor(0.8980), tensor(0.5820), tensor(0.8935), tensor(0.8786), tensor(0.9146), tensor(0.9004), tensor(0.8629), tensor(0.9022), tensor(0.9005), tensor(0.9137), tensor(0.8483), tensor(0.8878), tensor(0.8968), tensor(0.8987), tensor(0.9062)]\n"
          ],
          "name": "stdout"
        }
      ]
    },
    {
      "cell_type": "code",
      "metadata": {
        "id": "QP1PY1UFVwIT",
        "colab": {
          "base_uri": "https://localhost:8080/",
          "height": 415
        },
        "outputId": "67ee4d49-2512-45f2-dab3-bc10e5685087"
      },
      "source": [
        "# Create a barplot showing the MCC score for each batch of test samples.\n",
        "sns.set(font_scale=1.2)\n",
        "plt.rcParams[\"figure.figsize\"] = (12,6)\n",
        "\n",
        "ax = sns.barplot(x=list(range(len(matthews_set))), y=matthews_set, ci=None)\n",
        "ax.xaxis.set_major_locator(ticker.MultipleLocator(5))\n",
        "ax.xaxis.set_major_formatter(ticker.ScalarFormatter())\n",
        "\n",
        "plt.title('MCC Score per Batch')\n",
        "plt.ylabel('MCC Score (-1 to +1)')\n",
        "plt.xlabel('Batch #')\n",
        "\n",
        "plt.show()"
      ],
      "execution_count": 24,
      "outputs": [
        {
          "output_type": "display_data",
          "data": {
            "image/png": "[encoded data removed]",
            "text/plain": [
              "<Figure size 864x432 with 1 Axes>"
            ]
          },
          "metadata": {
            "tags": []
          }
        }
      ]
    },
    {
      "cell_type": "code",
      "metadata": {
        "id": "YrXvz8jhWANB",
        "colab": {
          "base_uri": "https://localhost:8080/",
          "height": 1000
        },
        "outputId": "25d471fc-07e6-4e54-c82e-9a53ef0669af"
      },
      "source": [
        "# Combine the results across all batches. \n",
        "flat_predictions = np.concatenate(predictions, axis=0)\n",
        "\n",
        "# For each sample, pick the label (0 or 1) with the higher score.\n",
        "flat_predictions = np.argmax(flat_predictions, axis=1).flatten()\n",
        "\n",
        "# Combine the correct labels for each batch into a single list.\n",
        "flat_true_labels = np.concatenate(true_labels, axis=0)\n",
        "\n",
        "# Calculate the MCC\n",
        "mcc = matthews_corrcoef(flat_true_labels, flat_predictions)\n",
        "\n",
        "print('Total MCC: %.3f' % mcc)\n",
        "print(classification_report(flat_true_labels, flat_predictions))\n",
        "\n",
        "# Confusion matrix\n",
        "cf_matrix = confusion_matrix(flat_true_labels, flat_predictions,normalize='all')\n",
        "cf_label_matrix = np.array([['True Negative','False Positive'],\n",
        "                            ['False Negative', 'True Positive']])\n",
        "plt.title('Confusion Matrix')\n",
        "# cmap = sns.color_palette(\"rocket_r\", as_cmap=True)\n",
        "sns.heatmap(cf_matrix, annot = cf_label_matrix, fmt = 's')\n",
        "plt.show()\n",
        "print(\"\\n\\n\")\n",
        "\n",
        "# Roc on!\n",
        "fpr, tpr, thresholds = roc_curve(flat_true_labels, np.array(probits_set), pos_label=1)\n",
        "auc_score = roc_auc_score(flat_true_labels, np.array(probits_set))\n",
        "\n",
        "sns.set(font_scale=1.5)\n",
        "plt.rcParams[\"figure.figsize\"] = (12,12)\n",
        "sns.set(style='darkgrid')\n",
        "plt.title('Receiver Operating Characteristic')\n",
        "plt.ylabel('True Positive Rate')\n",
        "plt.xlabel('False Positive Rate')\n",
        "\n",
        "sns.lineplot(x = fpr, y = tpr)\n",
        "x = np.linspace(0, 1)\n",
        "plt.plot(x, x + 0, linestyle='dashed')\n",
        "plt.show()"
      ],
      "execution_count": 62,
      "outputs": [
        {
          "output_type": "stream",
          "text": [
            "Total MCC: 0.547\n",
            "              precision    recall  f1-score   support\n",
            "\n",
            "           0       0.81      0.53      0.64       487\n",
            "           1       0.82      0.95      0.88      1113\n",
            "\n",
            "    accuracy                           0.82      1600\n",
            "   macro avg       0.82      0.74      0.76      1600\n",
            "weighted avg       0.82      0.82      0.81      1600\n",
            "\n"
          ],
          "name": "stdout"
        },
        {
          "output_type": "display_data",
          "data": {
            "image/png": "[encoded data removed]",
            "text/plain": [
              "<Figure size 864x864 with 2 Axes>"
            ]
          },
          "metadata": {
            "tags": []
          }
        },
        {
          "output_type": "stream",
          "text": [
            "\n",
            "\n",
            "\n"
          ],
          "name": "stdout"
        },
        {
          "output_type": "display_data",
          "data": {
            "image/png": "[encoded data removed]",
            "text/plain": [
              "<Figure size 864x864 with 1 Axes>"
            ]
          },
          "metadata": {
            "tags": []
          }
        }
      ]
    }
  ]
}