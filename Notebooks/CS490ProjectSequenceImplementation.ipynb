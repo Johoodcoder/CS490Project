{
  "nbformat": 4,
  "nbformat_minor": 0,
  "metadata": {
    "colab": {
      "name": "CS490Project.ipynb",
      "provenance": [],
      "collapsed_sections": [],
      "authorship_tag": "ABX9TyPACCTfdQV2dgQbE9fzNKGp",
      "include_colab_link": true
    },
    "kernelspec": {
      "name": "python3",
      "display_name": "Python 3"
    },
    "accelerator": "GPU"
  },
  "cells": [
    {
      "cell_type": "markdown",
      "metadata": {
        "id": "view-in-github",
        "colab_type": "text"
      },
      "source": [
        "<a href=\"https://colab.research.google.com/github/Johoodcoder/CS490Project/blob/hood/Notebooks/CS490ProjectSequenceImplementation.ipynb\" target=\"_parent\"><img src=\"https://colab.research.google.com/assets/colab-badge.svg\" alt=\"Open In Colab\"/></a>"
      ]
    },
    {
      "cell_type": "markdown",
      "metadata": {
        "id": "mTZbJ1SJ53XO"
      },
      "source": [
        "Non-preinstalled module installs"
      ]
    },
    {
      "cell_type": "code",
      "metadata": {
        "id": "sm5_ujD458U9",
        "colab": {
          "base_uri": "https://localhost:8080/"
        },
        "outputId": "91e01276-70d4-4f2b-831b-300c68ddddb5"
      },
      "source": [
        "!pip install pytorch-pretrained-bert"
      ],
      "execution_count": 1,
      "outputs": [
        {
          "output_type": "stream",
          "text": [
            "Requirement already satisfied: pytorch-pretrained-bert in /usr/local/lib/python3.7/dist-packages (0.6.2)\n",
            "Requirement already satisfied: numpy in /usr/local/lib/python3.7/dist-packages (from pytorch-pretrained-bert) (1.19.5)\n",
            "Requirement already satisfied: requests in /usr/local/lib/python3.7/dist-packages (from pytorch-pretrained-bert) (2.23.0)\n",
            "Requirement already satisfied: tqdm in /usr/local/lib/python3.7/dist-packages (from pytorch-pretrained-bert) (4.41.1)\n",
            "Requirement already satisfied: boto3 in /usr/local/lib/python3.7/dist-packages (from pytorch-pretrained-bert) (1.17.33)\n",
            "Requirement already satisfied: torch>=0.4.1 in /usr/local/lib/python3.7/dist-packages (from pytorch-pretrained-bert) (1.8.0+cu101)\n",
            "Requirement already satisfied: regex in /usr/local/lib/python3.7/dist-packages (from pytorch-pretrained-bert) (2019.12.20)\n",
            "Requirement already satisfied: chardet<4,>=3.0.2 in /usr/local/lib/python3.7/dist-packages (from requests->pytorch-pretrained-bert) (3.0.4)\n",
            "Requirement already satisfied: idna<3,>=2.5 in /usr/local/lib/python3.7/dist-packages (from requests->pytorch-pretrained-bert) (2.10)\n",
            "Requirement already satisfied: certifi>=2017.4.17 in /usr/local/lib/python3.7/dist-packages (from requests->pytorch-pretrained-bert) (2020.12.5)\n",
            "Requirement already satisfied: urllib3!=1.25.0,!=1.25.1,<1.26,>=1.21.1 in /usr/local/lib/python3.7/dist-packages (from requests->pytorch-pretrained-bert) (1.24.3)\n",
            "Requirement already satisfied: s3transfer<0.4.0,>=0.3.0 in /usr/local/lib/python3.7/dist-packages (from boto3->pytorch-pretrained-bert) (0.3.6)\n",
            "Requirement already satisfied: botocore<1.21.0,>=1.20.33 in /usr/local/lib/python3.7/dist-packages (from boto3->pytorch-pretrained-bert) (1.20.33)\n",
            "Requirement already satisfied: jmespath<1.0.0,>=0.7.1 in /usr/local/lib/python3.7/dist-packages (from boto3->pytorch-pretrained-bert) (0.10.0)\n",
            "Requirement already satisfied: typing-extensions in /usr/local/lib/python3.7/dist-packages (from torch>=0.4.1->pytorch-pretrained-bert) (3.7.4.3)\n",
            "Requirement already satisfied: python-dateutil<3.0.0,>=2.1 in /usr/local/lib/python3.7/dist-packages (from botocore<1.21.0,>=1.20.33->boto3->pytorch-pretrained-bert) (2.8.1)\n",
            "Requirement already satisfied: six>=1.5 in /usr/local/lib/python3.7/dist-packages (from python-dateutil<3.0.0,>=2.1->botocore<1.21.0,>=1.20.33->boto3->pytorch-pretrained-bert) (1.15.0)\n"
          ],
          "name": "stdout"
        }
      ]
    },
    {
      "cell_type": "code",
      "metadata": {
        "id": "qbufH4ZX8X5N"
      },
      "source": [
        "import pandas as pd \n",
        "import numpy as np \n",
        "import torch.nn as nn\n",
        "from pytorch_pretrained_bert import BertTokenizer, BertModel, BertForSequenceClassification, BertConfig\n",
        "import torch\n",
        "from keras.preprocessing.sequence import pad_sequences\n",
        "from sklearn.metrics import classification_report\n",
        "from collections import Counter"
      ],
      "execution_count": 2,
      "outputs": []
    },
    {
      "cell_type": "code",
      "metadata": {
        "colab": {
          "base_uri": "https://localhost:8080/"
        },
        "id": "8a-5pyC08dzO",
        "outputId": "e014e307-149a-4150-8e24-faece9284b75"
      },
      "source": [
        "# Load dataset\n",
        "df = pd.read_csv(\"condensed_fake_real_news.csv\")\n",
        "df = df[['text', 'type']]\n",
        "print(len(df))"
      ],
      "execution_count": 3,
      "outputs": [
        {
          "output_type": "stream",
          "text": [
            "8000\n"
          ],
          "name": "stdout"
        }
      ]
    },
    {
      "cell_type": "code",
      "metadata": {
        "colab": {
          "base_uri": "https://localhost:8080/"
        },
        "id": "8HHnQVRq8z0n",
        "outputId": "667abad3-91e2-4fa7-e973-5dd753670f89"
      },
      "source": [
        "df = df[df['type'].isin(['fake', 'real'])]\n",
        "# Scramble data indexes from dataset. Random_state is a seed.\n",
        "df = df.sample(frac=1, random_state = 24).reset_index(drop=True)\n",
        "\n",
        "print(Counter(df['type'].values))"
      ],
      "execution_count": 4,
      "outputs": [
        {
          "output_type": "stream",
          "text": [
            "Counter({'fake': 4000, 'real': 4000})\n"
          ],
          "name": "stdout"
        }
      ]
    },
    {
      "cell_type": "code",
      "metadata": {
        "colab": {
          "base_uri": "https://localhost:8080/"
        },
        "id": "2wOwpOde8_WC",
        "outputId": "68b3beb7-4aa6-477b-ee08-463e875b2e46"
      },
      "source": [
        "train_data_df = df.head(6400)\n",
        "test_data_df = df.tail(1600)\n",
        "print(train_data_df)"
      ],
      "execution_count": 5,
      "outputs": [
        {
          "output_type": "stream",
          "text": [
            "                                                   text  type\n",
            "0     Donald Trump s most recent secretive actions t...  fake\n",
            "1     WASHINGTON (Reuters) - U.S. President Donald T...  real\n",
            "2     WASHINGTON (Reuters) - U.S. President Donald T...  real\n",
            "3     WASHINGTON (Reuters) - Congressional leaders a...  real\n",
            "4     One of Trump s biggest campaign promises was t...  fake\n",
            "...                                                 ...   ...\n",
            "6395  The inauguration of President-elect Donald Tru...  fake\n",
            "6396  WASHINGTON (Reuters) - The U.S. Congress’ watc...  real\n",
            "6397  Former First Lady Hillary Clinton doesn t twee...  fake\n",
            "6398  WASHINGTON (Reuters) - The solidly Republican ...  real\n",
            "6399  The GOP has long been a place that only held t...  fake\n",
            "\n",
            "[6400 rows x 2 columns]\n"
          ],
          "name": "stdout"
        }
      ]
    },
    {
      "cell_type": "code",
      "metadata": {
        "id": "bborPzYM9CUR"
      },
      "source": [
        "train_data = []\n",
        "for index, row in train_data_df.iterrows():\n",
        "    train_data.append({'text': row['text'], 'type': row['type']})\n",
        "\n",
        "test_data = []\n",
        "for index, row in test_data_df.iterrows():\n",
        "    test_data.append({'text': row['text'], 'type': row['type']})"
      ],
      "execution_count": 6,
      "outputs": []
    },
    {
      "cell_type": "code",
      "metadata": {
        "id": "8G7zoLaF9gNf"
      },
      "source": [
        "train_texts, train_labels = list(zip(*map(lambda d: (d['text'], d['type']), train_data)))\n",
        "test_texts, test_labels = list(zip(*map(lambda d: (d['text'], d['type']), test_data)))"
      ],
      "execution_count": 7,
      "outputs": []
    },
    {
      "cell_type": "code",
      "metadata": {
        "id": "4KNrngW99ooH"
      },
      "source": [
        "tokenizer = BertTokenizer.from_pretrained('bert-base-uncased', do_lower_case=True)\n",
        "train_tokens = list(map(lambda t: ['[CLS]'] + tokenizer.tokenize(t)[:511], train_texts))\n",
        "test_tokens = list(map(lambda t: ['[CLS]'] + tokenizer.tokenize(t)[:511], test_texts))\n",
        "\n",
        "train_tokens_ids = list(map(tokenizer.convert_tokens_to_ids, train_tokens))\n",
        "test_tokens_ids = list(map(tokenizer.convert_tokens_to_ids, test_tokens))\n",
        "\n",
        "\n",
        "\n",
        "train_tokens_ids = pad_sequences(train_tokens_ids, maxlen=512, truncating=\"post\", padding=\"post\", dtype=\"int\")\n",
        "test_tokens_ids = pad_sequences(test_tokens_ids, maxlen=512, truncating=\"post\", padding=\"post\", dtype=\"int\")\n"
      ],
      "execution_count": 8,
      "outputs": []
    },
    {
      "cell_type": "code",
      "metadata": {
        "id": "QAKhviVo9ujZ"
      },
      "source": [
        "# If value == fake then make it true. Otherwise false.\n",
        "train_y = np.array(train_labels) == 'fake'\n",
        "test_y = np.array(test_labels) == 'fake'"
      ],
      "execution_count": 9,
      "outputs": []
    },
    {
      "cell_type": "code",
      "metadata": {
        "id": "zjP7PqON92FH"
      },
      "source": [
        "# Input masks differentiate padding tokens from legitimate data token. 1 == data, 0 == padding\n",
        "train_masks = [[float(i > 0) for i in ii] for ii in train_tokens_ids]\n",
        "test_masks = [[float(i > 0) for i in ii] for ii in test_tokens_ids]\n",
        "train_masks_tensor = torch.tensor(train_masks)\n",
        "test_masks_tensor = torch.tensor(test_masks)"
      ],
      "execution_count": 10,
      "outputs": []
    },
    {
      "cell_type": "code",
      "metadata": {
        "id": "1poQHOBe-DM6"
      },
      "source": [
        "train_tokens_tensor = torch.tensor(train_tokens_ids)\n",
        "train_y_tensor = torch.tensor(train_y.reshape(-1, 1)).float()\n",
        "\n",
        "test_tokens_tensor = torch.tensor(test_tokens_ids)\n",
        "test_y_tensor = torch.tensor(test_y.reshape(-1, 1)).float()\n",
        "\n",
        "# Testing datatypes for speed and compatability\n",
        "# ----------------------------------------- CUDA -----------------------------------------------------\n",
        "# train_masks_tensor = train_masks_tensor.to('cuda')\n",
        "# test_masks_tensor = test_masks_tensor.to('cuda')\n",
        "\n",
        "# train_tokens_tensor = train_tokens_tensor.to('cuda')\n",
        "# test_tokens_tensor = test_tokens_tensor.to('cuda')\n",
        "\n",
        "train_y_tensor = train_y_tensor.to('cuda')\n",
        "test_y_tensor = test_y_tensor.to('cuda')\n",
        "\n",
        "# ----------------------------------------- CUDA LONG -----------------------------------------------------\n",
        "cuda = torch.device('cuda')\n",
        "train_masks_tensor = train_masks_tensor.to(cuda, dtype = torch.long)\n",
        "test_masks_tensor = test_masks_tensor.to(cuda, dtype = torch.long)\n",
        "\n",
        "train_tokens_tensor = train_tokens_tensor.to(cuda, dtype = torch.long)\n",
        "test_tokens_tensor = test_tokens_tensor.to(cuda, dtype = torch.long)\n",
        "\n",
        "# train_y_tensor = train_y_tensor.to(cuda, dtype = torch.long)\n",
        "# test_y_tensor = test_y_tensor.to(cuda, dtype = torch.long)"
      ],
      "execution_count": 11,
      "outputs": []
    },
    {
      "cell_type": "code",
      "metadata": {
        "id": "2kHKfGwF-DZp"
      },
      "source": [
        "BATCH_SIZE = 12\n",
        "EPOCHS = 5\n",
        "\n",
        "train_dataset =  torch.utils.data.TensorDataset(train_tokens_tensor, train_masks_tensor, train_y_tensor)\n",
        "train_sampler =  torch.utils.data.RandomSampler(train_dataset)\n",
        "train_dataloader =  torch.utils.data.DataLoader(train_dataset, sampler=train_sampler, batch_size=BATCH_SIZE)\n",
        "test_dataset =  torch.utils.data.TensorDataset(test_tokens_tensor, test_masks_tensor, test_y_tensor)\n",
        "test_sampler =  torch.utils.data.SequentialSampler(test_dataset)\n",
        "test_dataloader =  torch.utils.data.DataLoader(test_dataset, sampler=test_sampler, batch_size=BATCH_SIZE)\n",
        "\n",
        "config = BertConfig(vocab_size_or_config_json_file=32000, hidden_size=768,\n",
        "        num_hidden_layers=12, num_attention_heads=12, intermediate_size=3072)\n",
        "\n",
        "num_labels = 1"
      ],
      "execution_count": 12,
      "outputs": []
    },
    {
      "cell_type": "code",
      "metadata": {
        "id": "0kdg4sqN-DkC"
      },
      "source": [
        "bert_clf = BertForSequenceClassification(config, num_labels)\n",
        "bert_clf.to('cuda')\n",
        "optimizer = torch.optim.Adam(bert_clf.parameters(), lr=3e-6)\n",
        "\n",
        "for epoch_num in range(EPOCHS):\n",
        "    bert_clf.train()\n",
        "    train_loss = 0\n",
        "    for step_num, batch_data in enumerate(train_dataloader):\n",
        "        token_ids, masks, labels = tuple(t for t in batch_data)\n",
        "        probas = bert_clf(token_ids, masks)\n",
        "        loss_func = nn.BCELoss()\n",
        "        # The new model has slightly different outputs. A sigmoid() is applied to probas to bound between 0 and 1\n",
        "        batch_loss = loss_func(probas.sigmoid(), labels)\n",
        "        train_loss += batch_loss.item()\n",
        "        bert_clf.zero_grad()\n",
        "        batch_loss.backward()\n",
        "        optimizer.step()\n",
        "        print('Epoch: ', epoch_num + 1)\n",
        "        print(\"\\r\" + \"{0}/{1} loss: {2} \".format(step_num, len(train_data) / BATCH_SIZE, train_loss / (step_num + 1)))"
      ],
      "execution_count": null,
      "outputs": []
    },
    {
      "cell_type": "code",
      "metadata": {
        "id": "ZffdI9Wn-dT2",
        "colab": {
          "base_uri": "https://localhost:8080/"
        },
        "outputId": "3d12bab6-7c1a-4c78-c674-591c42e21134"
      },
      "source": [
        "bert_clf.eval()\n",
        "bert_predicted = []\n",
        "all_logits = []\n",
        "with torch.no_grad():\n",
        "    for step_num, batch_data in enumerate(test_dataloader):\n",
        "\n",
        "        token_ids, masks, labels = tuple(t for t in batch_data)\n",
        "\n",
        "        logits = bert_clf(token_ids, masks)\n",
        "        loss_func = nn.BCELoss()\n",
        "        # The new model has slightly different outputs. A sigmoid() is applied to logits to bound between 0 and 1\n",
        "        loss = loss_func(logits.sigmoid(), labels)\n",
        "        numpy_logits = logits.cpu().detach().numpy()\n",
        "        \n",
        "        bert_predicted += list(numpy_logits[:, 0] > 0.5)\n",
        "        all_logits += list(numpy_logits[:, 0])\n",
        "        \n",
        "print(classification_report(test_y, bert_predicted))\n"
      ],
      "execution_count": 14,
      "outputs": [
        {
          "output_type": "stream",
          "text": [
            "              precision    recall  f1-score   support\n",
            "\n",
            "       False       1.00      0.99      0.99       824\n",
            "        True       0.99      1.00      0.99       776\n",
            "\n",
            "    accuracy                           0.99      1600\n",
            "   macro avg       0.99      0.99      0.99      1600\n",
            "weighted avg       0.99      0.99      0.99      1600\n",
            "\n"
          ],
          "name": "stdout"
        }
      ]
    },
    {
      "cell_type": "code",
      "metadata": {
        "id": "GM4QL-9wtRYE",
        "outputId": "204cded9-6bcc-4189-a2a6-5b42303cf483",
        "colab": {
          "base_uri": "https://localhost:8080/"
        }
      },
      "source": [
        "idx = 0\n",
        "incorrectArticles = []\n",
        "for real, predicted in zip(test_y, bert_predicted):\n",
        "  idx = idx +1\n",
        "  if real != predicted:\n",
        "    incorrectArticles.append(test_data_df.iloc[ idx , : ])\n",
        "\n",
        "for article in incorrectArticles:\n",
        "  print(f\"Type: {article['type']}\\nText: {article['text']}\\n\")"
      ],
      "execution_count": 51,
      "outputs": [
        {
          "output_type": "stream",
          "text": [
            "Type: real\n",
            "Text: WASHINGTON (Reuters) - As President Donald Trump delivered his inaugural address on Capitol Hill in January, his incoming national security adviser Michael Flynn, sitting a few yards away, texted a former business partner that a nuclear power project that would require lifting sanctions on Russia was “good to go,” a senior House Democrat said in a letter released on Wednesday.     Quoting a confidential informant, Representative Elijah Cummings, the top Democrat on the House Oversight and Government Reform Committee, wrote that Alex Copson, the managing partner of ACU Strategic Partners, told the informant that Flynn would see that the sanctions on Moscow were “ripped up.” In the letter to Representative Trey Gowdy, the panel’s Republican chairman, Cummings demanded that Gowdy subpoena documents on the nuclear power plan from the White House, Flynn, Copson, their partners and associates. Cummings said he had found the unnamed informant to be “authentic, credible, and reliable,” and offered to produce the individual for Gowdy. Reuters was unable to identify the informant or independently confirm the information in Cummings' letter, which can be seen here: tmsnrt.rs/2AvwKex. Gowdy told reporters later on Wednesday that he was not  going to have the Oversight Committee look into the issues raised in Cummings letter, because it falls outside the scope of the committee’s responsibilities. He suggested the House Intelligence Committee, which is investigating Russia’s role in the 2016 U.S. election, take up the matter. Copson and ACU did not immediately respond to detailed requests for comment, while an attorney for Flynn declined to comment.  The White House referred inquiries to Trump’s personal White House attorney, Ty Cobb, who declined to comment. If true, the informant’s story adds new evidence that the project’s promoters believed that Flynn and Trump backed the plan for a consortium of U.S., Russian and French firms to build and operate 45 nuclear power plants in Saudi Arabia and other Arab countries. Reuters last week published documents that showed Copson and other plan proponents believed they had Flynn and Trump in their corner. The documents also revealed previously unreported aspects of the ACU proposal, including the involvement of a Russian nuclear equipment manufacturer currently under U.S. sanctions. Flynn was a consultant to ACU from April 2015 to June 2016, according to amended financial disclosure forms he filed in August 2017. Flynn, who served only 24 days as Trump’s national security adviser, pleaded guilty last week to lying to FBI agents working for Special Counsel Robert Mueller about his contacts with a senior Russian diplomat. Mueller is investigating whether the Trump campaign colluded with Russia during the 2016 elections. Cummings wrote that he delayed releasing the letter at Mueller’s request until the special counsel “completed certain investigative steps. They have now informed us that they have done so.”  Cummings said the informant, who contacted his staff in  June, met Copson at a Jan. 20 inaugural event in Washington.  The two had not known each other, Cummings said. Copson described the nuclear project and told the informant that he had “just got this text message” from Flynn saying that the plan was “good to go” and that Copson should contact his colleagues to “let them know to put things in place,” Cummings wrote. Copson showed the informant the text message, according to Cummings. While the informant did not read the message, he saw the time stamp of 12:11 pm, which was about 10 minutes into Trump’s inaugural address. “Mike has been putting everything in place for us,” Copson told the informant, Cummings wrote. “This is going to make a lot of wealthy people.” “The whistleblower was extremely uncomfortable with the conversation,” Cummings wrote. “While at the event, the whistleblower made brief notes of Mr. Copson’s name and the discussion. The whistleblower left the event shortly thereafter.” \n",
            "\n",
            "Type: fake\n",
            "Text: In yet another example of Trump s inability to maintain even a slight bit of tact while representing America s interests overseas, the White House reportedly canceled plans to visit a historic landmark during his visit to Israel   one of the nation s biggest tourist attractions. The reason: Trump wanted to land his helicopter directly on the ancient mountain fortress and was told no.President Donald Trump has canceled a planned visit and speech at the ancient mountain fortress of Masada in Israel after authorities told him that he could not land his helicopter on top of the UNESCO-listed site.Instead, Trump will now deliver a speech at the Israel Museum in Jerusalem. It comes after an Israeli Air Force (IAF) regulation that prevents helicopters landing at the summit of the Masada site, according to Israel s Channel 2 broadcaster.Unlike former presidents who have made the trip, such as George W. Bush and Bill Clinton, Trump declined to land the helicopter at a base of the historic site and then take the cable car up, preferring to cancel the visit altogether.The reasons not allowing helicopters near the 2,000-year-old ruins should be obvious: For starters, the dust and sand that characterize the mountaintop are extremely rough on helicopter motors. Secondly, the wind and sand kicked up by the powerful blades can destroy the ancient structures, costing archaeologists priceless artifacts. Avoiding those issues by simply getting in a cable car was apparently too much energy.It may be another sign that Trump is hoping to breeze past this trip while doing minimal work. Sources close to Trump say he is extremely upset about having to travel abroad for a multi-day trip to the Middle East and already begged his staff to cut the number of days he d be gone. Keen observers of Trump s habits might note that Trump will be missing at least two weekends during the trip, days he typically reserves for golfing at his various private courses.Trump s demands on his overseas guests have raised eyebrows before. Earlier this year, Trump created a stir in England when reports leaked that he had requested Queen Elizabeth pick him up in a golden chariot:The White House has made clear it regards the carriage procession down the Mall as an essential element of the itinerary for the visit currently planned for the second week of October, according to officials.The request frustrated royal planners who described the situation as a logistical and financial nightmare.It s unclear how Israelis will react to Trump s show of laziness during his trip. Already the country s mood toward Trump is souring after the president is said to have leaked classified information provided by Israeli intelligence services to the Russians. He hasn t even left the White House and already his trip is shaping up to be trouble.Featured image via Mark Wilson/Getty Images\n",
            "\n",
            "Type: real\n",
            "Text: WASHINGTON (Reuters) - U.S. President Donald Trump on Friday said so-called “chain migration,” a term often used to refer to citizens or permanent residents sponsoring relatives or the clustering of certain immigrants in the same areas, cannot be included in any immigration legislation. “CHAIN MIGRATION cannot be allowed to be part of any legislation on Immigration!” Trump wrote on Twitter. The  statement comes after Trump stunned many fellow Republicans this week by negotiating with top congressional Democratic leaders over the DACA program protecting the children of undocumented immigrants. \n",
            "\n",
            "Type: real\n",
            "Text: (Reuters) - Attorney General Jeff Sessions on Thursday accused technology companies of failing to adequately help federal investigators access encrypted communications, saying over the past year that the FBI was blocked from accessing nearly 7,500 mobile devices. Sessions criticized the technology sector in a speech in New York City, just two days after Sayfullo Saipov, an Uzbek immigrant, allegedly drove a truck down a lower Manhattan bike path, killing eight people and injuring 11. Saipov said he was inspired by Islamic State videos, according to investigators. Sessions, speaking at the U.S. attorney’s office not far from the site of the attack, addressed the tragedy by offering his condolences. He then laid out a three-point plan to combat terrorism more generally, which he said should include new immigration restrictions, improved access to electronic communications and continued efforts to “aggressively surveill non-citizen terrorists overseas.” “Terrorists should know: This administration will use all lawful tools at our disposal,” Sessions said, saying such tools will include using both federal courts and military proceedings at Guantanamo Bay prison in Cuba to prosecute terrorism suspects.   “If anyone has any doubt about that, they can ask the more than 500 criminals whom the Department of Justice has convicted of terrorism-related offenses since 9/11, he said, referring to the Sept. 11, 2001, attacks on New York and Washington. “And they can ask the dozens of enemy combatants in Guantanamo Bay.”  Sessions did not say whether he thought that Saipov should be sent to Guantanamo, though he did voice support for a proposal by President Donald Trump to scrap a diversity visa program and replace it with a merit-based system. On Wednesday, Trump said he would consider sending Saipov to a military prison at Guantanamo. No detainee has been sent to there since 2008. Sessions on Thursday also harshly criticized Silicon Valley, saying technology companies too often “refuse to cooperate with law enforcement or even to comply with court orders.”   As an example, he cited a 2015 terrorist incident in Garland, Texas, after two gunmen opened fired with assault rifles at an exhibit featuring caricatures of the Prophet Mohammed. Sessions said one of the terrorists had sent more than 100 instant messages to another terrorist overseas.  “What we don’t know, however, is what he said - because those messages are encrypted,” he said. The Justice Department in recent weeks has been signaling it plans to take a tougher stance with technology companies over accessing encrypted data. Last month, Deputy Attorney General Rod Rosenstein also discussed the topic, and suggested attempts to negotiate with the tech sector were a waste of time because they valued profit over stopping crime. \n",
            "\n",
            "Type: fake\n",
            "Text: Russia interfered in the 2016 U.S. presidential election in order to help Donald Trump become president of the United States, according to a CIA report the Washington Post has obtained.The CIA has concluded in a secret assessment that Russia intervened in the 2016 election to help Donald Trump win the presidency, rather than just to undermine confidence in the U.S. electoral system, according to officials briefed on the matter.Intelligence agencies have identified individuals with connections to the Russian government who provided WikiLeaks with thousands of hacked emails from the Democratic National Committee and others, including Hillary Clinton s campaign chairman, according to U.S. officials. Those officials described the individuals as actors known to the intelligence community and part of a wider Russian operation to boost Trump and hurt Clinton s chances.A senior official told the Post,  It is the assessment of the intelligence community that Russia s goal here was to favor one candidate over the other, to help Trump get elected. Not only does this report show that Russia got its desired result in 2016, but it also shows how the mainstream media   who reported on Clinton s emails and ignored or downplayed hundreds of major stories about Trump s business dealings and ties to Russia   was an accomplice in its actions.Other governments are now on full alert for possible Russian interference, most notably in Germany where spy agencies have already made public announcements about Russian attempts to tilt the scales against Angela Merkel, one of the last liberal leaders who isn t under Putin s influence and control.America has never had a president so in debt to a foreign government, let alone the only other nuclear power in the world. It will now fall to the American people, and not its incoming president, to safeguard against Vladimir Putin and his avalanche of propaganda.Featured image via Flickr\n",
            "\n",
            "Type: real\n",
            "Text: (Reuters) - Minnesota Governor Mark Dayton’s May 30 veto of funding for the state legislature was unconstitutional, according to a state judge, who voided the action on Wednesday. Ramsey County District Court Chief Judge John Guthmann ruled the Democratic governor’s line-item veto of fiscal 2018-2019 legislative appropriations violated the state constitution’s separation of powers clause. Lawmakers sued Dayton last month claiming his veto of nearly $130 million for the Republican-controlled legislature in the two-year budget was unconstitutional. In late June, the judge ordered funding to resume temporarily, pending the outcome of the litigation. “Today the court ruled an entire branch of government cannot be eliminated by a stroke of the governor’s pen,” Senate Majority Leader Paul Gazelka, a Republican, said in a statement. He urged Dayton to accept the verdict. But the governor said he will appeal the ruling to the Minnesota Supreme Court.  “As I have said, the tax bill passed last May by Republican legislators jeopardizes Minnesota’s structurally balanced budget in the future,” Dayton said in a statement.  The governor took the veto action in an effort to win concessions from Republican lawmakers on taxes and other measures.  Guthmann concluded it was improper for the governor to use his line-item veto authority “to gain a repeal or modification of unrelated policy legislation by effectively eliminating a co-equal branch of government.” Dayton’s veto also raised credit concerns for the state by leaving $80.1 million of certificates of participation issued in 2014 for a Senate office facility without an appropriation for rental and debt payments next due in November and December.  After the judge ordered funding to resume, S&P on June 30 affirmed Minnesota’s AA-plus rating and removed it from a watch list for a potential downgrade. \n",
            "\n",
            "Type: fake\n",
            "Text: While Donald Trump has been taking vacations, special counsel Robert Mueller has been working hard on the Russia investigation. Instead of golfing this weekend, we suggest that the former reality show star huddle with his lawyers. Trump s former national security adviser Michael Flynn pleaded guilty to lying to the FBI about conversations with the Russian ambassador and he s fully cooperating with Mueller. As part of the plea deal, Flynn admitted that he was directed by a senior member of the Trump transition team to make contact with Russian officials in December. In addition, Flynn is prepared to testify that Trump as a candidate, ordered him to make contacts with the Russians.This marks the first instance of solid proof that there was collusion between team Trump and a hostile foreign government.On Friday, just after the news broke, the White House insisted that Flynn s guilty plea will not implicate Trump or anyone else in the White House.The White House said in a statement that Flynn was fired for making false statements to Trump officials, and that he worked for the administration for a short time   and that he was a former Obama administration official. The false statements involved mirror the false statements to White House officials which resulted in his resignation in February of this year,  said White House lawyer Ty Cobb.  Nothing about the guilty plea or the charge implicates anyone other than Mr. Flynn. The White House then referred to Flynn as the  former National Security Advisor at the White House for 25 days  as well as  a former Obama administration official. However, the White House left out a few important details. President Obama fired Flynn as head of the Defense Intelligence Agency and he also warned Trump about Flynn during a discussion two days after the election and emphasized that he had concerns about him joining the national security team for the new president.On top of that, just after Flynn was forced to resign, Trump called him a  wonderful man  who was treated unfairly by the media.Photo by David Becker/Getty Images.\n",
            "\n",
            "Type: fake\n",
            "Text: Doesn t Corporate America get enough breaks at the expense of the everyday American? Apparently not, because they re working on a bill that would limit the ability of the American consumer to sue, even in cases of gross negligence and flat-out illegal acts. Already it s difficult to sue due to all the legal fine print that corporations use specifically to make it harder to sue. And now Republicans want to expand and cement corporations immunity from responsibility.Of course, they gave it a name intended to deceive us into believing they re making things more fair for everyone. Leveling the playing field. Things like that. It s called the  Fairness in Class Action Litigation Act of 2017.  It s anything but fair   it tips the balance of lawsuits so far towards corporations that it s obscene.Class action lawsuits  are often the only avenue for Americans to hold corporations accountable if they are victims of widespread illegal behavior.  In other words, victims of fraud and scams, unsafe products and workplaces, and of human and civil rights violations, would have little to no recourse, according to a detailed analysis from Elizabeth Burch from the University of Georgia s School of Law.Other egregious behavior companies could get away with include price fixing, gender discrimination, securities fraud could go unchecked, deceptive or even false advertising could likewise go unchecked, and so much more.Sure, there are laws in place that prohibit all of that, but holding companies truly responsible for the harm that their lawlessness causes involves hurting their bottom line. Do Republicans plan to put inspectors in every corporation there is, just to ensure that they all follow the law? Class-action suits really are our only method of holding a corporation s feet to the fire when they break the law.Should this bill pass, it s anything but  America first,  and as such, it s a major kick in the face to regular consumers. Republicans are disgusting.Featured image by Mark Wilson via Getty Images\n",
            "\n",
            "Type: real\n",
            "Text: WASHINGTON (Reuters) - U.S. Representative Ruben Kihuen announced on Saturday that he will not seek re-election, becoming the latest member of Congress to end his legislative career in the face of sexual harassment allegations.   The first-term Nevada Democrat, who is the subject of an ethics investigation in the House of Representatives, denied the allegations against him but concluded that the charges would distract from “a fair and thorough discussion of the issues” on the campaign trail. “It is in the best interests of my family and my constituents to complete my term in Congress and not seek reelection,” Kihuen, 37, said in a statement issued by his campaign committee. The news website BuzzFeed has reported allegations that Kihuen sexually harassed a staff member of his 2016 political campaign. This week, there were also multiple reports of an anonymous lobbyist’s description of his unwanted advances. Reuters has not independently confirmed the reports.  Kihuen is the latest in a growing roster of male lawmakers in Congress who have been accused of sexual misconduct amid a wave of such allegations against powerful men in entertainment, politics and the media. Lawmakers are working on legislation to update the body’s rules on sexual harassment. On Friday, Democratic Representative Bobby Scott of Virginia was accused of touching a former aide without permission and offering to advance her career in exchange for sex. The aide also said she was wrongfully dismissed from her job. Scott denied the charges. Republican Representative Blake Farenthold also said this week that he would not seek re-election after accounts surfaced that he created a hostile work environment. He denied allegations of sexual harassment but admitted allowing an unprofessional culture in his Capitol Hill office.  Last week, Democratic Representative John Conyers and Republican Representative Trent Franks resigned, while Democratic Senator Al Franken said he would step down in the coming weeks.          \n",
            "\n"
          ],
          "name": "stdout"
        }
      ]
    }
  ]
}